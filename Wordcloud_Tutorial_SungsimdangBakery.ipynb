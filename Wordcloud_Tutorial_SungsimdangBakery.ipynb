{
  "nbformat": 4,
  "nbformat_minor": 0,
  "metadata": {
    "colab": {
      "provenance": [],
      "include_colab_link": true
    },
    "kernelspec": {
      "name": "python3",
      "display_name": "Python 3"
    },
    "language_info": {
      "name": "python"
    }
  },
  "cells": [
    {
      "cell_type": "markdown",
      "metadata": {
        "id": "view-in-github",
        "colab_type": "text"
      },
      "source": [
        "<a href=\"https://colab.research.google.com/github/ms624atyale/NLP_2024/blob/main/Wordcloud_Tutorial_SungsimdangBakery.ipynb\" target=\"_parent\"><img src=\"https://colab.research.google.com/assets/colab-badge.svg\" alt=\"Open In Colab\"/></a>"
      ]
    },
    {
      "cell_type": "markdown",
      "source": [
        "## **Activity: Creating a Wordcloud with Sungsimdang** ☁️ ☀️ ❄️\n",
        "\n",
        "\n"
      ],
      "metadata": {
        "id": "OHs2wAZfzzao"
      }
    },
    {
      "cell_type": "code",
      "execution_count": null,
      "metadata": {
        "id": "Ay57mV32zVuJ",
        "cellView": "form"
      },
      "outputs": [],
      "source": [
        "#@markdown <font color = 'red'> **STEP 1: Install Libraries <font color = 'organge'> 필요한 프로그램 설치하기** 🎁 📘\n",
        "\n",
        "\n",
        "from wordcloud import WordCloud, STOPWORDS\n",
        "import matplotlib.pyplot as plt"
      ]
    },
    {
      "cell_type": "code",
      "source": [
        "#@markdown  <font color = 'orange'> **STEP 2: Type in your text <font color = 'organge'> 텍스트 입력하기*** 🆎\n",
        "\n",
        "\n",
        "text = \"\"\"\n",
        "Daejeon, South Korea’s fifth largest metropolis with a population of over 1.5 million, is located in the central region of the nation. The city is famous for its convenient transportation being a paradise for bread lovers, and some call it the South Korean Silicon Valley, for its advanced technology and research institutions.\\n The Korea Advanced Institute of Science and Technology (KAIST), one of the most well-known national universities, being the center of South Korea’s science and technology is located in Daejeon. KAIST has connotations of academic excellence and reputation for pioneering research throughout the world. Try visiting the campus as public spaces are open for everyone.\\n You might have heard of Sung Sim Dang Bakery, the Michelin-starred bakery that boasts of their long history from 1956. Sung Sim Dang is pretty easy to find as it is located right next to Daejeon Station. Most wellknown for its deepfried soboro (a bun made of flour, sugar, eggs, and dough) buns with sweetened r e d b e a n p a s t e , Daejeon’s exclusive bakery has a long history of over sixty years, being crowded all year round. Such a product is famous for Sung Sim Dang’s innovative attempt as it is unusual to fry a soboro bun. Do not forget to try Pollack Roe Baguette, a salted baguette with pollack roe on the top. It is one of the top three must-eat baked goods in Sung Sim Dang.\\n Just down the street is Sung Sim Dang’s cake boutique. Here, you can get their unique elaborate desserts, such as cakes, tarts, and rolls. They are famous for DDalgi Siru, a strawberry cake that a massive number of visitors line up outside the boutique for a taste. This plays an important role in enabling tourism revitalization in Daejeon.\\n Other than baked goods, Daejeon is an attractive tourist site for young university students to enjoy prop shops and stationery stores, where cute stickers and goods are displayed for your home interior. The Prelude Shop has the most reviews and high ratings due to its unique design and the opportunity for visitors to enjoy a variety of stationery brands. As diary writing is a trend among university students, visiting The Prelude Shop and buying stickers would be a good choice.\\n If you want to taste Korean food, try visiting Tofu House, a place with a charming a t m o s p h e r e b y considerate waitresses. They sell Tofu hotpot, which is slightly spicy with diverse seafood i n c l u d i n g o c t o p u s and scallops. There is an option where you can order some meat, which goes well with the spicy soup. After finishing eating the hotpot, noodles and rice are prepared, which is enjoyed with the leftover soup.\\n After a long journey from Seoul to Daejeon, a nice place to rest your mind and body is needed. Try visiting Yuseong Foot Spa, a hot spring that was visited by the royal family during the Joseon Dynasty. The low-alkaline spring water of the foot spa is said to be effective against skin, neurological, and gastrointestinal conditions.\\n Inside onsite accommodations, Yuseong Foot Spa also offers public baths, particularly famous among tourists who are searching for a refreshing spot to slow down and take a rest. As public baths are a unique Korean culture that most foreigners are unaccustomed to, it could be a meaningful and exciting experience.\\n Daejeon is much like other popular tourist sites such as Busan and Jeju Island. However, it has a very local atmosphere, a variety of both city and countryside attractions, and nice restaurants, meaning that it is a city that is worth visiting. Why not plan for a one-day trip to Daejeon with your friends?\n",
        "\"\"\""
      ],
      "metadata": {
        "id": "PUIper2WzbZ1"
      },
      "execution_count": null,
      "outputs": []
    },
    {
      "cell_type": "code",
      "source": [
        "#@markdown 🏫 <font color = 'brown'> **STEP 3: Split words <font color = 'organge'> 단어로 쪼개기** 🅰️ ✔️ 🅱️\n",
        "\n",
        "stopwords = set(STOPWORDS)\n",
        "spltxt = text.split()"
      ],
      "metadata": {
        "id": "GSUkxKWezhKp",
        "cellView": "form"
      },
      "execution_count": null,
      "outputs": []
    },
    {
      "cell_type": "code",
      "source": [
        "#@markdown 🏫 <font color = 'blank'> **STEP 4: Creating a Wordcloud <font color = 'organge'> 워드 클라우드 만들기** ☀️☁️ ❄️\n",
        "\n",
        "\n",
        "wordcloud = WordCloud(stopwords=stopwords,relative_scaling = 0.2, random_state=3,\n",
        "                      max_words=2000, background_color='white').generate(' '.join(spltxt))\n",
        "plt.figure(figsize=(12,12))\n",
        "plt.imshow(wordcloud, interpolation=\"bilinear\")\n",
        "plt.axis(\"off\")\n",
        "wordcloud.to_file('wordcloud_title.png')"
      ],
      "metadata": {
        "id": "56YV292wznwj",
        "cellView": "form"
      },
      "execution_count": null,
      "outputs": []
    },
    {
      "cell_type": "markdown",
      "source": [
        "## 1️⃣ **성심당은 대전의 자랑입니다. 1 개의 기사를 바탕으로 워드 클라우드를 작성했습니다. 아래 링크를 클릭하여 각 기사에 사용된 단어를 살펴보세요. 워드 클라우드에 사용된 기사는 (a) 와 (b) 중 어느것입니까?\n",
        "\n",
        "\n",
        "## <font color = 'brown'> **Who's the Winner?! 상품의 주인공은?!** 🍎🍔🍦🍰\n",
        "\n",
        "\n",
        "#**[(a) Article 1 about Sungsimdang](https://www.koreaherald.com/view.php?ud=20240529050450)**\n",
        "\n",
        "#**[(b) Article 2 about Sungsimdang](https://evoice.ewha.ac.kr/news/articleView.html?idxno=20198)**\n"
      ],
      "metadata": {
        "id": "m49jWJj5T1Y7"
      }
    },
    {
      "cell_type": "markdown",
      "source": [
        "### 2️⃣ **여러분이 자주 방문하는 싸이트의 URL 하이퍼링크를 작성해 보는 활동입니다.** ⤵️\n",
        "\n",
        "###  **⤵️ Double Click and Visit Emoji Art!**\n",
        "\n",
        "- ### **[Choose your Emoji Art♥️ So CUTE!!!](https://gist.github.com/rxaviers/7360908)**\n",
        "\n",
        "\n",
        "\n",
        "\n",
        "\n"
      ],
      "metadata": {
        "id": "HEBa7UQeXu9I"
      }
    },
    {
      "cell_type": "markdown",
      "source": [
        "↘️\n",
        "\n",
        "##<font color = 'red'>**<Step 1>**\n",
        "\n",
        "- ### [ ] 안에 좋아하는 <font color = 'organge'> **키워드를 타이핑하여 입력하고 귀여운 이모티콘**</font>을 복사해서 붙여 넣어보세요! ✅\n",
        "\n",
        "- ### 여러분의 하이퍼링크를 만들어 보세요. 아래 텍스트 박스에서 markdown language와 귀여운 이모티콘을 사용하면 돼요.\n",
        "\n",
        "##<font color = 'red'>**<Step 2>**\n",
        "- ### i) 아래 3️⃣ 번 텍스트 박스의 빈 공간을 <font color = 'red'> **더블클릭**</font> 하세요.\n",
        "- ### ii) 분할된 박스에서 왼쪽 박스에서 작업합니다. 기호 [ ] 안에는 하이퍼 링크의 제목을 입력하고, 괄호 ( ) 안에는 URL을 복사하여 붙이면 됩니다.\n",
        "- ### <font color = 'gray'> iii) 주의: 파란색 글씨를 클릭하면 해당 URL로 이동합니다! ✅"
      ],
      "metadata": {
        "id": "s0VaRzwP2KqD"
      }
    },
    {
      "cell_type": "markdown",
      "source": [
        "## 4️⃣ **Click the link below and figure out what you get!**\n",
        "\n",
        "#[Type your Keyword and Insert Emoji ](https://www.instagram.com/)"
      ],
      "metadata": {
        "id": "ZeWzGb39bHkZ"
      }
    }
  ]
}