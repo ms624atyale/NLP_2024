{
  "nbformat": 4,
  "nbformat_minor": 0,
  "metadata": {
    "colab": {
      "provenance": [],
      "authorship_tag": "ABX9TyNb4htWwYbHSRFTi00pDeTA",
      "include_colab_link": true
    },
    "kernelspec": {
      "name": "python3",
      "display_name": "Python 3"
    },
    "language_info": {
      "name": "python"
    }
  },
  "cells": [
    {
      "cell_type": "markdown",
      "metadata": {
        "id": "view-in-github",
        "colab_type": "text"
      },
      "source": [
        "<a href=\"https://colab.research.google.com/github/ms624atyale/NLP_2024/blob/main/6_DefiningFunctions.ipynb\" target=\"_parent\"><img src=\"https://colab.research.google.com/assets/colab-badge.svg\" alt=\"Open In Colab\"/></a>"
      ]
    },
    {
      "cell_type": "markdown",
      "source": [
        "## **Function 함수**"
      ],
      "metadata": {
        "id": "Z7LCdzhzPZdZ"
      }
    },
    {
      "cell_type": "code",
      "execution_count": null,
      "metadata": {
        "id": "v-gjA5sdhg68"
      },
      "outputs": [],
      "source": [
        "#1. string argument 문자열 인자\n",
        "\n",
        "def add_txt(t1, t2):    #string을 이용했을 때, 리턴값이 있는 함수 예시\n",
        "    t_result = t1 + t2\n",
        "    return t_result\n"
      ]
    },
    {
      "cell_type": "code",
      "source": [
        "#1.a\n",
        "\n",
        "def add_txt(t1, t2):\n",
        "  result = t1 + t2\n",
        "  return result\n",
        "\n",
        "# Define two strings as arguments\n",
        "text1 = \"Hello, \"\n",
        "text2 = \"World!\"\n",
        "\n",
        "# Calling the add_txt function with the defined arguments\n",
        "combined_text = add_txt(text1, text2)\n",
        "\n",
        "# Printing the result\n",
        "print(combined_text)"
      ],
      "metadata": {
        "id": "fGQY9jpNTqPe",
        "outputId": "5e4bf90b-a4ad-4df5-b22e-fad99fea389f",
        "colab": {
          "base_uri": "https://localhost:8080/"
        }
      },
      "execution_count": null,
      "outputs": [
        {
          "output_type": "stream",
          "name": "stdout",
          "text": [
            "Hello, World!\n"
          ]
        }
      ]
    },
    {
      "cell_type": "markdown",
      "source": [
        "# 🆘 ⤵️\n",
        "When the function does **not** return result explicitly using the return statement, you just call the add_txt function with text1 and text2 as arguments. If so, it concatenates them and stores the result in result, but it doesn't return anything. Consequently, combined_text receives the value None, as that is what the function implicitly returns."
      ],
      "metadata": {
        "id": "jWiXqWEjIJRI"
      }
    },
    {
      "cell_type": "code",
      "source": [
        "#1.b  Compare!\n",
        "\n",
        "def add_txt(t1, t2):\n",
        "    result = t1 + t2\n",
        "\n",
        "# Define two strings as arguments\n",
        "text1 = \"Hello, \"\n",
        "text2 = \"World!\"\n",
        "\n",
        "# Calling the add_txt function with the defined arguments\n",
        "combined_text = add_txt(text1, text2)\n",
        "\n",
        "# Printing the result\n",
        "print(combined_text)"
      ],
      "metadata": {
        "id": "VQyVhf32GypZ",
        "outputId": "33d24776-95b6-4315-f136-ee026c1fd58c",
        "colab": {
          "base_uri": "https://localhost:8080/"
        }
      },
      "execution_count": null,
      "outputs": [
        {
          "output_type": "stream",
          "name": "stdout",
          "text": [
            "None\n"
          ]
        }
      ]
    },
    {
      "cell_type": "code",
      "source": [
        "#2 number argument 숫자 인자\n",
        "def add_number(n1,n2):\n",
        "  n_result = (n1 + n2)  #numbers를 이용했을 때, 리턴값이 없는 함수 예시\n",
        "  return n_result"
      ],
      "metadata": {
        "id": "4Qn6vIvCXctB"
      },
      "execution_count": null,
      "outputs": []
    },
    {
      "cell_type": "code",
      "source": [
        "#2a number arguments with return\n",
        "\n",
        "def add_number(n1,n2):\n",
        "  n_result = n1 + n2\n",
        "  return n_result\n",
        "\n",
        "num1 = 10\n",
        "num2 = 20\n",
        "\n",
        "add_nums = add_number(num1, num2)\n",
        "print(add_nums)"
      ],
      "metadata": {
        "id": "p9_K7wO1bexs",
        "outputId": "ba18d35b-5263-4acd-801c-e3c9ab489c41",
        "colab": {
          "base_uri": "https://localhost:8080/"
        }
      },
      "execution_count": null,
      "outputs": [
        {
          "output_type": "stream",
          "name": "stdout",
          "text": [
            "30\n"
          ]
        }
      ]
    },
    {
      "cell_type": "code",
      "source": [
        "#2b number arguments without return\n",
        "\n",
        "def add_number(n1,n2):\n",
        "  result = n1 + n2     #numbers를 이용했을 때, 리턴값이 없는 함수 예시\n",
        "\n",
        "num1 = 100\n",
        "num2 = 200\n",
        "\n",
        "add_nums = add_number(num1, num2)\n",
        "print(add_nums)"
      ],
      "metadata": {
        "id": "t2_ny90Wb5Nl",
        "outputId": "7c277992-6032-44dd-def1-323c633fa8ba",
        "colab": {
          "base_uri": "https://localhost:8080/"
        }
      },
      "execution_count": null,
      "outputs": [
        {
          "output_type": "stream",
          "name": "stdout",
          "text": [
            "None\n"
          ]
        }
      ]
    },
    {
      "cell_type": "markdown",
      "source": [
        "### **Return** statement in a function\n",
        "\n",
        "- Functions with a <font color = 'red'>return</font> statement produce <font color = 'red'> a value as its result</font>, and the function execution stops at that point.\n",
        "- Functions without a return statement still execute but implicitly return <font color = 'blue'> None.</font>\n",
        "- Whether to use a return statement depends on _whether you want the function to produce a value_ <font color = 'red'>**that can be used elsewhere**</font> in your code. If you don't need to return a result, not having a return statement is perfectly fine."
      ],
      "metadata": {
        "id": "RexAen-aOyMx"
      }
    },
    {
      "cell_type": "markdown",
      "source": [
        "In the given script, the caller is indeed my_len(). It is the function that is being called with the argument my_list. The caller is responsible for initiating the execution of the my_len() function and passing the my_list variable as input. The my_len() function calculates the length of the list provided as input and returns the result, which is then printed using the print() function."
      ],
      "metadata": {
        "id": "Eq1Coxg80jt0"
      }
    },
    {
      "cell_type": "code",
      "source": [
        "#@markdown ##🌀👀 **3. Example: Function to calculate the length of a list**\n",
        "\n",
        "def my_len(input_list):\n",
        "\n",
        "    length = 0  # Initialize a variable to store the length\n",
        "    for i in input_list:  # Iterate over each element in the list\n",
        "        length += 1  # Increment the length for each element\n",
        "    return length  # Return the calculated length\n",
        "\n",
        "# Example usage of the defined function\n",
        "my_list = [1, 2, 3, 4, 5]\n",
        "print(\"Length of the list:\", my_len(my_list))\n",
        "\n",
        "\n",
        "\n",
        "\n",
        "#@markdown ###🌀👀📌 <font color = 'red'> _Compare! 3-1. Example: Function to calculate the length of a list_**\n",
        "def my_len(input_list):\n",
        "\n",
        "    length = 0  # Initialize a variable to store the length\n",
        "    for i in input_list:  # Iterate over each element in the list\n",
        "        length += 1  # Increment the length for each element\n",
        "    #return length  # Return the calculated length\n",
        "\n",
        "# Example usage of the defined function\n",
        "my_list = [1, 2, 3, 4, 5]\n",
        "print(\"Length of the list:\", my_len(my_list))"
      ],
      "metadata": {
        "id": "tmiVrBYyzQI3",
        "outputId": "09f64412-7924-4f81-e016-15ff5656315b",
        "colab": {
          "base_uri": "https://localhost:8080/"
        }
      },
      "execution_count": null,
      "outputs": [
        {
          "output_type": "stream",
          "name": "stdout",
          "text": [
            "Length of the list: 5\n",
            "Length of the list: None\n"
          ]
        }
      ]
    },
    {
      "cell_type": "code",
      "source": [
        "# Codelines are fine with variable and print function!\n",
        "\n",
        "number = 1\n",
        "print(number)\n",
        "\n",
        "var = 'string'\n",
        "print(var)"
      ],
      "metadata": {
        "colab": {
          "base_uri": "https://localhost:8080/"
        },
        "id": "rBkYaI_p_54-",
        "outputId": "7ee21f36-bf34-4190-a452-784887ad6e65"
      },
      "execution_count": null,
      "outputs": [
        {
          "output_type": "stream",
          "name": "stdout",
          "text": [
            "1\n",
            "string\n"
          ]
        }
      ]
    },
    {
      "cell_type": "code",
      "source": [
        "#💣  cf. you cannot get the assigned number belonging to a block of a function.\n",
        "\n",
        "def my_len(input_list):\n",
        "\n",
        "    length = 0  # Initialize a variable to store the length\n",
        "    for i in input_list:  # Iterate over each element in the list\n",
        "        length += 1  # Increment the length for each element\n",
        "    return length  # Return the calculated length\n",
        "\n",
        "print(length)"
      ],
      "metadata": {
        "colab": {
          "base_uri": "https://localhost:8080/",
          "height": 176
        },
        "id": "-oBAmP5JAr1E",
        "outputId": "cda8d103-3e28-439f-9329-14c7a49387a6"
      },
      "execution_count": null,
      "outputs": [
        {
          "output_type": "error",
          "ename": "NameError",
          "evalue": "name 'length' is not defined",
          "traceback": [
            "\u001b[0;31m---------------------------------------------------------------------------\u001b[0m",
            "\u001b[0;31mNameError\u001b[0m                                 Traceback (most recent call last)",
            "\u001b[0;32m<ipython-input-32-092d7aff82b1>\u001b[0m in \u001b[0;36m<cell line: 10>\u001b[0;34m()\u001b[0m\n\u001b[1;32m      8\u001b[0m     \u001b[0;32mreturn\u001b[0m \u001b[0mlength\u001b[0m  \u001b[0;31m# Return the calculated length\u001b[0m\u001b[0;34m\u001b[0m\u001b[0;34m\u001b[0m\u001b[0m\n\u001b[1;32m      9\u001b[0m \u001b[0;34m\u001b[0m\u001b[0m\n\u001b[0;32m---> 10\u001b[0;31m \u001b[0mprint\u001b[0m\u001b[0;34m(\u001b[0m\u001b[0mlength\u001b[0m\u001b[0;34m)\u001b[0m\u001b[0;34m\u001b[0m\u001b[0;34m\u001b[0m\u001b[0m\n\u001b[0m",
            "\u001b[0;31mNameError\u001b[0m: name 'length' is not defined"
          ]
        }
      ]
    },
    {
      "cell_type": "code",
      "source": [],
      "metadata": {
        "colab": {
          "base_uri": "https://localhost:8080/"
        },
        "id": "sSRAa0MUABwS",
        "outputId": "0da81bee-04bd-488b-a4a3-d3f2dd0f267a"
      },
      "execution_count": null,
      "outputs": [
        {
          "output_type": "stream",
          "name": "stdout",
          "text": [
            "1\n",
            "string\n"
          ]
        }
      ]
    },
    {
      "cell_type": "markdown",
      "source": [
        "#🌀**Read the following if you need further explanation!**\n",
        "\n",
        "Explicit explanation for each codeline from 'initial = 0' to the end of the _for_ statement.\n",
        "\n",
        "1. Initializing the Variable length:\n",
        "- Before the for loop, we initialize a variable length to store the length of the list.\n",
        "- Initially, it is set to 0. This line is outside of the for loop, so it only happens once at the beginning of the function execution.\n",
        "- At this point, length is just a placeholder to keep track of how many elements we have encountered so far.\n",
        ">\n",
        "2. Iterating Over Each Element in the List:\n",
        "- The for loop for i in input_list: is responsible for iterating over each element in the list.\n",
        "- In each iteration, i represents the current element being processed.\n",
        "- Incrementing length:\n",
        "  - Inside the loop, after processing each element (i), we increment the length variable by 1 using the statement length += 1. This line effectively counts each element as we iterate through the list.\n",
        "  - For each element encountered in the list, the value of length increases by 1.\n",
        ">\n",
        "3. Finishing the Loop:\n",
        "- The loop continues until it has iterated over all elements in the list.\n",
        "- After processing the last element, the loop ends.\n",
        ">\n",
        "4. Returning the Final Length:"
      ],
      "metadata": {
        "id": "MRNJvS1q3UU8"
      }
    },
    {
      "cell_type": "markdown",
      "source": [
        "#**print() vs. return()**\n",
        "\n",
        "'return' is used to pass values back to the caller, allowing the function to provide results that can be used in further computations or stored for later use. On the other hand, print() is used for displaying output to the user or logging information but does not affect the flow of the program or return any values to the caller. They serve different purposes and are used in different contexts within a Python program."
      ],
      "metadata": {
        "id": "BYw_n4rw0O0u"
      }
    },
    {
      "cell_type": "code",
      "source": [
        "#@markdown ##🌀👀 **Define a function named print_message without return**\n",
        "\n",
        "def print_message(): #Function to print a predefined message\n",
        "    message = \"Hello, world!\"  # Define a message\n",
        "    print(message)  # Print the message\n",
        "\n",
        "# Call the defined function\n",
        "print_message()\n"
      ],
      "metadata": {
        "id": "qcAMziYA5n0M",
        "colab": {
          "base_uri": "https://localhost:8080/"
        },
        "outputId": "d5f2b505-6913-44ae-d45c-fe32ad8b4fbe"
      },
      "execution_count": null,
      "outputs": [
        {
          "output_type": "stream",
          "name": "stdout",
          "text": [
            "Hello, world!\n"
          ]
        }
      ]
    },
    {
      "cell_type": "markdown",
      "source": [
        "## 🐹🐾 **Place holders<font color = 'gray'>(자리 표시자)**\n",
        "  - %d and %s are placeholders used for string formatting.\n",
        "  - They are used in strings to represent where you want to insert specific values, such as numbers or strings. Here's what they mean:\n",
        "\n",
        "    - <font color = 'red'> %d: This is a placeholder for formatting **integers (decimal integers)**. When you use %d in a string, it's _replaced with an integer value_.</font>\n",
        "\n",
        "    - <font color = 'green'> %s: This is a placeholder for formatting **strings**. When you use %s in a string, it's _replaced with a string value_.\n",
        "\n"
      ],
      "metadata": {
        "id": "725iuSrMwFlJ"
      }
    },
    {
      "cell_type": "code",
      "source": [
        "#3. Example of place holders such as %d and %s\n",
        "\n",
        "name = \"Alice\"\n",
        "score = 95\n",
        "age = 18\n",
        "\n",
        "# Using %s and %d for string formatting\n",
        "test_result = \"You scored %d on the test.\" %score\n",
        "print(test_result)\n",
        "\n",
        "greeting = \"Hello, %s! You turn to finally %d years old finally.\" %(name, age)\n",
        "print(greeting)\n",
        "print('\\n')\n",
        "\n",
        "#Alternatively\n",
        "print(\"You scored %d on the test.\" %score)\n",
        "print(\"Hello, %s! You turn to finally %d years old finally.\" %(name, age))"
      ],
      "metadata": {
        "id": "icGcG4O3wMof",
        "outputId": "6f7900b7-0758-4463-a65d-89ce16019c04",
        "colab": {
          "base_uri": "https://localhost:8080/"
        }
      },
      "execution_count": null,
      "outputs": [
        {
          "output_type": "stream",
          "name": "stdout",
          "text": [
            "You scored 95 on the test.\n",
            "Hello, Alice! You turn to finally 18 years old finally.\n",
            "\n",
            "\n",
            "You scored 95 on the test.\n",
            "Hello, Alice! You turn to finally 18 years old finally.\n"
          ]
        }
      ]
    },
    {
      "cell_type": "code",
      "source": [
        "#3b\n",
        "\n",
        "def add(a, b):\n",
        "    result = a + b\n",
        "    return result\n",
        "\n",
        "#Your data input\n",
        "num1 = 5\n",
        "num2 = 3\n",
        "\n",
        "sum_result = add(num1, num2)\n",
        "\n",
        "# Using the % operator for string formatting\n",
        "\n",
        "print(\"The sum of %d and %d is %d\" % (num1, num2, sum_result))"
      ],
      "metadata": {
        "id": "jDpKRpftWT0e",
        "outputId": "be6ba96b-014b-4f50-c0b5-12bfe6d81777",
        "colab": {
          "base_uri": "https://localhost:8080/"
        }
      },
      "execution_count": null,
      "outputs": [
        {
          "output_type": "stream",
          "name": "stdout",
          "text": [
            "The sum of 5 and 3 is 8\n"
          ]
        }
      ]
    },
    {
      "cell_type": "code",
      "source": [
        "#3b'\n",
        "\n",
        "def add_and_print(a, b):\n",
        "    result = a + b\n",
        "    print(\"The sum of %d and %d is %d\" %(a, b, result))\n",
        "    return result\n",
        "\n",
        "# Call the function 'add_and_print(a,b)'\n",
        "sum_result = add_and_print(3, 4)"
      ],
      "metadata": {
        "id": "XNsEX5ijVCBJ",
        "outputId": "9af74f3f-0304-48c2-c330-1757e9ac7c9d",
        "colab": {
          "base_uri": "https://localhost:8080/"
        }
      },
      "execution_count": null,
      "outputs": [
        {
          "output_type": "stream",
          "name": "stdout",
          "text": [
            "The sum of 3 and 4 is 7\n"
          ]
        }
      ]
    },
    {
      "cell_type": "markdown",
      "source": [
        "##### ⚡ 키워드 인자: 함수 호출 때 괄호 안에 등호를 사용하여 표시할 때 이를 <font color = 'red'> **키워드 인자**</font>라고 한다. 예시 add_txt1(t1='My friend', t2='Python')\n",
        "##### ⚡ <font color = 'red'> **기본 인자**</font>, e.g., t2='Python': 함수 호출 때 t2 위치에 실제 값을 전달하지 않아도 'Python'이 기본값으로 대입됨\n"
      ],
      "metadata": {
        "id": "pgqX3r2RVFyE"
      }
    },
    {
      "cell_type": "code",
      "source": [
        "# 위의 함수 정의 및 호출 이해 완료\n",
        "def add_txt1(t1,t2='Python'): #add_txt1은 t1과 t2를 ':'로 연결한 뒤 출력하는 함수다.\n",
        "  print(t1 + ':' + t2) # 연결 기호 +\n",
        "\n",
        "add_txt1('Best') #add_txt1 함수를 호출하고 있음. 기본값 t2='Python'을 사용하며 호출\n",
        "add_txt1(t1='My friend', t2='Python') #add_txt1 함수를 호출하고 있음. 인자 이름을 명시하며 (=키워드 인자를 사용하며) 호출\n",
        "add_txt1(t1='My buddy')\n",
        "\n"
      ],
      "metadata": {
        "id": "NqusozFRVQ8Z",
        "outputId": "9a901daf-5538-4981-dd44-51f467f4defd",
        "colab": {
          "base_uri": "https://localhost:8080/"
        }
      },
      "execution_count": null,
      "outputs": [
        {
          "output_type": "stream",
          "name": "stdout",
          "text": [
            "Best:Python\n",
            "My friend:Python\n",
            "My buddy:Python\n"
          ]
        }
      ]
    },
    {
      "cell_type": "markdown",
      "source": [
        "#### ⚡ **<font color = 'red'> 가변 인자 (*args) </font>**는 인자의 개수가 명확치 않을 때 사용한다.\n",
        "- #### Variable-length arguments (i.e., varargs) allow you to pass different numbers of arguments to a function, and the function can work with them flexibly.\n",
        "- #### The *args parameter collects all the positional arguments passed to the function and makes them accessible as a _tuple_ within the function.\n",
        "\n"
      ],
      "metadata": {
        "id": "SmGNZArBgZq_"
      }
    },
    {
      "cell_type": "code",
      "source": [
        "def func_uncertain(*args):\n",
        "  print(args)\n",
        "\n",
        "func_uncertain() #*args에 아무값도 전달 안하고 함수를 호출하면 빈 튜플로 결과가 출력된다.\n",
        "\n",
        "# Calling the function with different numbers of positional arguments\n",
        "func_uncertain(1, 2, 3)\n",
        "func_uncertain('apple', 'banana', 'cherry', 'date')\n",
        "func_uncertain(True) #Read the following explanation below for a boolean value True in a tuple."
      ],
      "metadata": {
        "id": "hUWjH2ZNiiTM",
        "outputId": "3a464b27-65ae-449d-850a-c93eefd12b74",
        "colab": {
          "base_uri": "https://localhost:8080/"
        }
      },
      "execution_count": null,
      "outputs": [
        {
          "output_type": "stream",
          "name": "stdout",
          "text": [
            "()\n",
            "(1, 2, 3)\n",
            "('apple', 'banana', 'cherry', 'date')\n",
            "(True,)\n"
          ]
        }
      ]
    },
    {
      "cell_type": "markdown",
      "source": [
        "##💡 'True' is a boolean value in Python, representing the logical value of true.\n",
        "- In Python, (True,) and (True) both represent a tuple with a single element, which is True. The comma after True is not necessary if you're not planning to include additional elements in the tuple.\n",
        "- However, when you're passing a single argument to a function and want to treat it as a tuple, it's a common convention to include the comma to explicitly denote it as a tuple, even if it's just one element. This helps to avoid potential ambiguity and makes the code clearer."
      ],
      "metadata": {
        "id": "7YCJKSW_sjcX"
      }
    },
    {
      "cell_type": "markdown",
      "source": [
        "#### ⚡ <font color = 'blue'> 키워드 가변 인자 (**kwargs)</font>는 차후 어떤 키워드 인자가 필요한지 미확정 되었을 때 사용한다.\n",
        "- #### A <font color = 'blue'> **keyword argument**</font>, also known as a named argument, is a way to pass arguments to a function in a way that specifies **the parameter name along with the value**. In Python, you can use keyword arguments to make function calls more explicit and self-documenting by **explicitly naming the parameters you are providing values for**.\n",
        "\n",
        "한글: 키워드 인자, 또는 명명된 인자라고도 하는 키워드 인자는 함수에 인자를 전달하는 방법으로, 값과 함께 매개변수 이름을 지정하는 방식이다. 파이썬에서는 함수 호출을 더 명시적이고 자기 설명적으로 만들기 위해 키워드 인자를 사용하여 제공하는 값에 대해 명시적으로 매개변수 이름을 지정할 수 있다."
      ],
      "metadata": {
        "id": "WXchx1DkjzML"
      }
    },
    {
      "cell_type": "code",
      "source": [
        "def func_kwa(width, height, **kwargs):  #함수 정의 때 TWO asterisks 인 것을 주의하자. 또한 인자는 string 이 아니기 때문에 ''를 동반 사용 X\n",
        "  print(kwargs)\n",
        "\n",
        "func_kwa(10, 20) #*kwargs에 아무값도 전달 안하면서 함수를 호출하면 empty dictionary(빈 사전)로 결과가 출력된다.\n",
        "func_kwa(10, 20, depth=30, color='blue') #kwargs(키워드인자) 두 개 추가."
      ],
      "metadata": {
        "id": "fJCbIeafeFcH",
        "outputId": "ca93da50-d2cb-4cea-d323-1b41db13f0b1",
        "colab": {
          "base_uri": "https://localhost:8080/"
        }
      },
      "execution_count": null,
      "outputs": [
        {
          "output_type": "stream",
          "name": "stdout",
          "text": [
            "{}\n",
            "{'depth': 30, 'color': 'blue'}\n"
          ]
        }
      ]
    },
    {
      "cell_type": "markdown",
      "source": [
        "💊 *kwargs vs. positional arguments\n",
        "\n",
        "1. In your func_kwa function, width and height are defined as positional arguments, while **kwargs collects any additional keyword arguments into a dictionary.\n",
        "    - Positional arguments are the arguments passed to a function in the order they are defined in the function's parameter list.\n",
        "2. When you call func_kwa(10, 20, depth=30, color='blue'), Python interprets 10 as the value for width and 20 as the value for height. The additional keyword arguments depth=30 and color='blue' are collected into the kwargs dictionary.\n",
        "3. The purpose of **kwargs is to allow the function to accept any number of additional keyword arguments, which are then accessible within the function as key-value pairs in the kwargs dictionary.\n",
        "  - If you want to print out the values of width and height along with the contents of kwargs, you can include them explicitly in the function body as in the following..."
      ],
      "metadata": {
        "id": "arJTCwOfvH34"
      }
    },
    {
      "cell_type": "code",
      "source": [
        "def func_kwa(width, height, **kwargs):\n",
        "    print(\"Width:\", width)\n",
        "    print(\"Height:\", height)\n",
        "    print(\"Additional keyword arguments:\", kwargs)\n",
        "\n",
        "# Example usage:\n",
        "func_kwa(10, 20, depth=30, color='blue')\n"
      ],
      "metadata": {
        "id": "pepNrT-6uMHV",
        "outputId": "bb393d8e-3ec8-4701-98b5-afa00cf73b7b",
        "colab": {
          "base_uri": "https://localhost:8080/"
        }
      },
      "execution_count": null,
      "outputs": [
        {
          "output_type": "stream",
          "name": "stdout",
          "text": [
            "Width: 10\n",
            "Height: 20\n",
            "Additional keyword arguments: {'depth': 30, 'color': 'blue'}\n"
          ]
        }
      ]
    },
    {
      "cell_type": "markdown",
      "source": [
        "#####  🌀 리스트의 요소 중 하나가 function 함수인 경우"
      ],
      "metadata": {
        "id": "od69Xw-YnZl8"
      }
    },
    {
      "cell_type": "code",
      "source": [
        "def myfunction():\n",
        "  print ('Hello World!')\n",
        "\n",
        "list = [1, 2, myfunction]\n",
        "\n",
        "# 아래 두 개 코드라인에서, 리스트에서 2 번째 요소가 myfunction 함수라서, myfunction 함수에 인자 자리 ( )를 표시하는 것과, list[2]( )는 'Hello World!'로 동일한 결과를 보여준다.\n",
        "myfunction()\n",
        "list[2]()"
      ],
      "metadata": {
        "id": "zwR-XAzLxXz_",
        "outputId": "225d7f1f-975b-4caa-dc91-1841453229fe",
        "colab": {
          "base_uri": "https://localhost:8080/"
        }
      },
      "execution_count": null,
      "outputs": [
        {
          "output_type": "stream",
          "name": "stdout",
          "text": [
            "Hello World!\n",
            "Hello World!\n"
          ]
        }
      ]
    },
    {
      "cell_type": "markdown",
      "source": [
        "💊 In Python, when you reference a function by its name without parentheses, it simply refers to the function object itself rather than invoking (calling) the function. So when you use myfunction or list[2], you are referring to the function object itself, not calling it.\n",
        "\n",
        "    * To actually call (invoke) the function, you need to use parentheses () after the function name or the function reference. This tells Python to execute the function and carry out its instructions."
      ],
      "metadata": {
        "id": "FM16atytwjNk"
      }
    },
    {
      "cell_type": "markdown",
      "source": [
        "## 🔥🐹🐶🐤🐭 <font color = 'organge'>**Find a basic Python textbook, read and exercise the content about functions thoroughly!**"
      ],
      "metadata": {
        "id": "6gRdfX6wktcA"
      }
    }
  ]
}