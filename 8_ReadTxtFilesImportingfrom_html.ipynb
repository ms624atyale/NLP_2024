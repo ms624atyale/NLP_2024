{
  "nbformat": 4,
  "nbformat_minor": 0,
  "metadata": {
    "colab": {
      "provenance": [],
      "authorship_tag": "ABX9TyNoVRZgjNG007VeJ7Ts68tV",
      "include_colab_link": true
    },
    "kernelspec": {
      "name": "python3",
      "display_name": "Python 3"
    },
    "language_info": {
      "name": "python"
    },
    "widgets": {
      "application/vnd.jupyter.widget-state+json": {
        "c7663a091c3b4ddab0bc988547424a3c": {
          "model_module": "@jupyter-widgets/controls",
          "model_name": "HBoxModel",
          "model_module_version": "1.5.0",
          "state": {
            "_dom_classes": [],
            "_model_module": "@jupyter-widgets/controls",
            "_model_module_version": "1.5.0",
            "_model_name": "HBoxModel",
            "_view_count": null,
            "_view_module": "@jupyter-widgets/controls",
            "_view_module_version": "1.5.0",
            "_view_name": "HBoxView",
            "box_style": "",
            "children": [
              "IPY_MODEL_469c6c9c911841bb9f6c74cb41eee672",
              "IPY_MODEL_1cdc1ed52d5849439fa6db00dffc71ff"
            ],
            "layout": "IPY_MODEL_3e5c3871290a49a9a0701c2ec4ed23a6"
          }
        },
        "469c6c9c911841bb9f6c74cb41eee672": {
          "model_module": "@jupyter-widgets/controls",
          "model_name": "ImageModel",
          "model_module_version": "1.5.0",
          "state": {
            "_dom_classes": [],
            "_model_module": "@jupyter-widgets/controls",
            "_model_module_version": "1.5.0",
            "_model_name": "ImageModel",
            "_view_count": null,
            "_view_module": "@jupyter-widgets/controls",
            "_view_module_version": "1.5.0",
            "_view_name": "ImageView",
            "format": "png",
            "height": "600",
            "layout": "IPY_MODEL_d94fdd8a133a433487bbbaacb63ec82f",
            "width": "700"
          }
        },
        "1cdc1ed52d5849439fa6db00dffc71ff": {
          "model_module": "@jupyter-widgets/controls",
          "model_name": "VBoxModel",
          "model_module_version": "1.5.0",
          "state": {
            "_dom_classes": [],
            "_model_module": "@jupyter-widgets/controls",
            "_model_module_version": "1.5.0",
            "_model_name": "VBoxModel",
            "_view_count": null,
            "_view_module": "@jupyter-widgets/controls",
            "_view_module_version": "1.5.0",
            "_view_name": "VBoxView",
            "box_style": "",
            "children": [
              "IPY_MODEL_35aba5c01a4e41c287cafa02530c7a54",
              "IPY_MODEL_507f117b2fa3426bb06010ab7f009bf5",
              "IPY_MODEL_4043d9dd7c4442bfa0aae1357fb59e1f"
            ],
            "layout": "IPY_MODEL_a8ad3b06411348d2956be36bfd0f51ef"
          }
        },
        "3e5c3871290a49a9a0701c2ec4ed23a6": {
          "model_module": "@jupyter-widgets/base",
          "model_name": "LayoutModel",
          "model_module_version": "1.2.0",
          "state": {
            "_model_module": "@jupyter-widgets/base",
            "_model_module_version": "1.2.0",
            "_model_name": "LayoutModel",
            "_view_count": null,
            "_view_module": "@jupyter-widgets/base",
            "_view_module_version": "1.2.0",
            "_view_name": "LayoutView",
            "align_content": null,
            "align_items": null,
            "align_self": null,
            "border": null,
            "bottom": null,
            "display": null,
            "flex": null,
            "flex_flow": null,
            "grid_area": null,
            "grid_auto_columns": null,
            "grid_auto_flow": null,
            "grid_auto_rows": null,
            "grid_column": null,
            "grid_gap": null,
            "grid_row": null,
            "grid_template_areas": null,
            "grid_template_columns": null,
            "grid_template_rows": null,
            "height": null,
            "justify_content": null,
            "justify_items": null,
            "left": null,
            "margin": null,
            "max_height": null,
            "max_width": null,
            "min_height": null,
            "min_width": null,
            "object_fit": null,
            "object_position": null,
            "order": null,
            "overflow": null,
            "overflow_x": null,
            "overflow_y": null,
            "padding": null,
            "right": null,
            "top": null,
            "visibility": null,
            "width": null
          }
        },
        "d94fdd8a133a433487bbbaacb63ec82f": {
          "model_module": "@jupyter-widgets/base",
          "model_name": "LayoutModel",
          "model_module_version": "1.2.0",
          "state": {
            "_model_module": "@jupyter-widgets/base",
            "_model_module_version": "1.2.0",
            "_model_name": "LayoutModel",
            "_view_count": null,
            "_view_module": "@jupyter-widgets/base",
            "_view_module_version": "1.2.0",
            "_view_name": "LayoutView",
            "align_content": null,
            "align_items": null,
            "align_self": null,
            "border": null,
            "bottom": null,
            "display": null,
            "flex": null,
            "flex_flow": null,
            "grid_area": null,
            "grid_auto_columns": null,
            "grid_auto_flow": null,
            "grid_auto_rows": null,
            "grid_column": null,
            "grid_gap": null,
            "grid_row": null,
            "grid_template_areas": null,
            "grid_template_columns": null,
            "grid_template_rows": null,
            "height": null,
            "justify_content": null,
            "justify_items": null,
            "left": null,
            "margin": null,
            "max_height": null,
            "max_width": null,
            "min_height": null,
            "min_width": null,
            "object_fit": null,
            "object_position": null,
            "order": null,
            "overflow": null,
            "overflow_x": null,
            "overflow_y": null,
            "padding": null,
            "right": null,
            "top": null,
            "visibility": null,
            "width": null
          }
        },
        "35aba5c01a4e41c287cafa02530c7a54": {
          "model_module": "@jupyter-widgets/controls",
          "model_name": "ButtonModel",
          "model_module_version": "1.5.0",
          "state": {
            "_dom_classes": [],
            "_model_module": "@jupyter-widgets/controls",
            "_model_module_version": "1.5.0",
            "_model_name": "ButtonModel",
            "_view_count": null,
            "_view_module": "@jupyter-widgets/controls",
            "_view_module_version": "1.5.0",
            "_view_name": "ButtonView",
            "button_style": "",
            "description": "1",
            "disabled": false,
            "icon": "",
            "layout": "IPY_MODEL_2d4a9a05c9684dd0b918ca5dc5c19521",
            "style": "IPY_MODEL_eced43180e2b4198b2aeaa9fca9850b8",
            "tooltip": ""
          }
        },
        "507f117b2fa3426bb06010ab7f009bf5": {
          "model_module": "@jupyter-widgets/controls",
          "model_name": "ButtonModel",
          "model_module_version": "1.5.0",
          "state": {
            "_dom_classes": [],
            "_model_module": "@jupyter-widgets/controls",
            "_model_module_version": "1.5.0",
            "_model_name": "ButtonModel",
            "_view_count": null,
            "_view_module": "@jupyter-widgets/controls",
            "_view_module_version": "1.5.0",
            "_view_name": "ButtonView",
            "button_style": "",
            "description": "2",
            "disabled": false,
            "icon": "",
            "layout": "IPY_MODEL_2d4a9a05c9684dd0b918ca5dc5c19521",
            "style": "IPY_MODEL_1378390099b94f1e8bf51b2f59790fec",
            "tooltip": ""
          }
        },
        "4043d9dd7c4442bfa0aae1357fb59e1f": {
          "model_module": "@jupyter-widgets/controls",
          "model_name": "ButtonModel",
          "model_module_version": "1.5.0",
          "state": {
            "_dom_classes": [],
            "_model_module": "@jupyter-widgets/controls",
            "_model_module_version": "1.5.0",
            "_model_name": "ButtonModel",
            "_view_count": null,
            "_view_module": "@jupyter-widgets/controls",
            "_view_module_version": "1.5.0",
            "_view_name": "ButtonView",
            "button_style": "",
            "description": "3",
            "disabled": false,
            "icon": "",
            "layout": "IPY_MODEL_2d4a9a05c9684dd0b918ca5dc5c19521",
            "style": "IPY_MODEL_7158ef82bdf1442e8efd5cea86c264b8",
            "tooltip": ""
          }
        },
        "a8ad3b06411348d2956be36bfd0f51ef": {
          "model_module": "@jupyter-widgets/base",
          "model_name": "LayoutModel",
          "model_module_version": "1.2.0",
          "state": {
            "_model_module": "@jupyter-widgets/base",
            "_model_module_version": "1.2.0",
            "_model_name": "LayoutModel",
            "_view_count": null,
            "_view_module": "@jupyter-widgets/base",
            "_view_module_version": "1.2.0",
            "_view_name": "LayoutView",
            "align_content": null,
            "align_items": null,
            "align_self": null,
            "border": null,
            "bottom": null,
            "display": null,
            "flex": null,
            "flex_flow": null,
            "grid_area": null,
            "grid_auto_columns": null,
            "grid_auto_flow": null,
            "grid_auto_rows": null,
            "grid_column": null,
            "grid_gap": null,
            "grid_row": null,
            "grid_template_areas": null,
            "grid_template_columns": null,
            "grid_template_rows": null,
            "height": null,
            "justify_content": null,
            "justify_items": null,
            "left": null,
            "margin": null,
            "max_height": null,
            "max_width": null,
            "min_height": null,
            "min_width": null,
            "object_fit": null,
            "object_position": null,
            "order": null,
            "overflow": null,
            "overflow_x": null,
            "overflow_y": null,
            "padding": null,
            "right": null,
            "top": null,
            "visibility": null,
            "width": null
          }
        },
        "2d4a9a05c9684dd0b918ca5dc5c19521": {
          "model_module": "@jupyter-widgets/base",
          "model_name": "LayoutModel",
          "model_module_version": "1.2.0",
          "state": {
            "_model_module": "@jupyter-widgets/base",
            "_model_module_version": "1.2.0",
            "_model_name": "LayoutModel",
            "_view_count": null,
            "_view_module": "@jupyter-widgets/base",
            "_view_module_version": "1.2.0",
            "_view_name": "LayoutView",
            "align_content": null,
            "align_items": null,
            "align_self": null,
            "border": null,
            "bottom": null,
            "display": null,
            "flex": null,
            "flex_flow": null,
            "grid_area": null,
            "grid_auto_columns": null,
            "grid_auto_flow": null,
            "grid_auto_rows": null,
            "grid_column": null,
            "grid_gap": null,
            "grid_row": null,
            "grid_template_areas": null,
            "grid_template_columns": null,
            "grid_template_rows": null,
            "height": "30px",
            "justify_content": null,
            "justify_items": null,
            "left": null,
            "margin": null,
            "max_height": null,
            "max_width": null,
            "min_height": null,
            "min_width": null,
            "object_fit": null,
            "object_position": null,
            "order": null,
            "overflow": null,
            "overflow_x": null,
            "overflow_y": null,
            "padding": null,
            "right": null,
            "top": null,
            "visibility": null,
            "width": "50px"
          }
        },
        "eced43180e2b4198b2aeaa9fca9850b8": {
          "model_module": "@jupyter-widgets/controls",
          "model_name": "ButtonStyleModel",
          "model_module_version": "1.5.0",
          "state": {
            "_model_module": "@jupyter-widgets/controls",
            "_model_module_version": "1.5.0",
            "_model_name": "ButtonStyleModel",
            "_view_count": null,
            "_view_module": "@jupyter-widgets/base",
            "_view_module_version": "1.2.0",
            "_view_name": "StyleView",
            "button_color": null,
            "font_weight": ""
          }
        },
        "1378390099b94f1e8bf51b2f59790fec": {
          "model_module": "@jupyter-widgets/controls",
          "model_name": "ButtonStyleModel",
          "model_module_version": "1.5.0",
          "state": {
            "_model_module": "@jupyter-widgets/controls",
            "_model_module_version": "1.5.0",
            "_model_name": "ButtonStyleModel",
            "_view_count": null,
            "_view_module": "@jupyter-widgets/base",
            "_view_module_version": "1.2.0",
            "_view_name": "StyleView",
            "button_color": null,
            "font_weight": ""
          }
        },
        "7158ef82bdf1442e8efd5cea86c264b8": {
          "model_module": "@jupyter-widgets/controls",
          "model_name": "ButtonStyleModel",
          "model_module_version": "1.5.0",
          "state": {
            "_model_module": "@jupyter-widgets/controls",
            "_model_module_version": "1.5.0",
            "_model_name": "ButtonStyleModel",
            "_view_count": null,
            "_view_module": "@jupyter-widgets/base",
            "_view_module_version": "1.2.0",
            "_view_name": "StyleView",
            "button_color": null,
            "font_weight": ""
          }
        }
      }
    }
  },
  "cells": [
    {
      "cell_type": "markdown",
      "metadata": {
        "id": "view-in-github",
        "colab_type": "text"
      },
      "source": [
        "<a href=\"https://colab.research.google.com/github/ms624atyale/NLP_2024/blob/main/8_ReadTxtFilesImportingfrom_html.ipynb\" target=\"_parent\"><img src=\"https://colab.research.google.com/assets/colab-badge.svg\" alt=\"Open In Colab\"/></a>"
      ]
    },
    {
      "cell_type": "markdown",
      "source": [
        "## 🐹🍏  <font color = 'red'> **Step-by-Step to get your text file ready for further analysis as UTF-8 (Unicode Transformation Format)**</font>\n",
        "\n",
        "**On your machine**\n",
        "* **Mac**\n",
        "  - [If you want to copy sentences excerpted from Crime and Punishment by Fyodor Dostovesky, click here!](https://raw.githubusercontent.com/ms624atyale/Data_Misc/main/Crime_Punishment_ChOne_Part.txt)\n",
        "  - Copy content from your **ms word** or html and paste it to **TextEdit**.\n",
        "\n",
        "\n",
        "      1. Go to [Format] -> [Make Plain Text]</font>\n",
        "      \n",
        "      2. Hit [Save] -> Choose a directory -> Type in a file name under \"Save as\" -> Check Plain Text Encoding: Unicode (UTF-8)\n",
        "      (If no extension is provided, use .txt)\n",
        "\n",
        "      3. In the term \"UTF-8,\" the number 8 refers to the number of bits used to encode characters in the UTF-8 character\n",
        "      encoding scheme. UTF-8 is a variable-width encoding that can use 8, 16, or 24 bits to represent characters,\n",
        "      but the most commonly used range is the 8-bit representation. This means that characters in UTF-8 can be encoded\n",
        "      using 1 to 4 bytes, with the most common characters (those in the ASCII character set) represented using\n",
        "      a single byte (8 bits). UTF-8은 가변 폭 인코딩으로, 문자를 나타내는 데 8, 16 또는 24비트를 사용할 수 있지만, 가장 일반적으로\n",
        "      사용되는 범위는 8비트 표현입니다. 이는 UTF-8에서 문자를 1바이트에서 4바이트까지 인코딩할 수 있음을 의미하며, 가장 일반적인 문자(ASCII 문자 집합에 속하는 문자)는\n",
        "      1바이트(8비트)로 표현됩니다.\n",
        ">\n",
        "* **MS Word**\n",
        "  * [If you want to copy sentences excerpted from Crime and Punishment by Fyodor Dostovesky, click here!](https://raw.githubusercontent.com/ms624atyale/Data_Misc/main/Crime_Punishment_ChOne_Part.txt)\n",
        "  * Write something on **MS Word** or copy content from html document and paste it to **MS Word**.\n",
        "  \n",
        "        1.Go to [File] -> [Save As...] Choose [File Format] -> [Plain Text(.txt)]\n",
        "        \n",
        "        2. Hit [Save] -> [Other Encoding] -> Unicode(UTF-8) -> End lines with CR-Only (by default) or CR/LF\n",
        "        -> Document direction: [Left-to-right] -> Hit [OK]\n",
        ">\n",
        "\n",
        "* **PC**\n",
        "  * [If you want to copy sentences excerpted from Crime and Punishment by Fyodor Dostovesky, click here!](https://raw.githubusercontent.com/ms624atyale/Data_Misc/main/Crime_Punishment_ChOne_Part.txt)\n",
        "  * Copy content from your **ms word** or html and paste it to **WordPad 메모장**.\n",
        "  \n",
        "        1.Go to [File] -> [Save As...] Choose [Text Document]\n",
        "        \n",
        "        2. Hit [Save] -> Choose a directory -> Type in a file name under \"Save as\" -> Check Plain Text Encoding:\n",
        "        Unicode (UTF-8) (If no extension is provided, use .txt)\n",
        "\n",
        "        3. If you are given two options, UTF-8a and UTF-8b, choose UTF-8b (aka, UTF-8 without BOM),\n",
        "        which is the standard UTF-8. It is a safer choice for maximum compatibility, especially in\n",
        "        cross-platform applications.\n",
        ">\n",
        "**<font color = 'red'>💣 [Warning]** </font>\n",
        "* Do not select Rich Text Format (RTF), which is the default.\n",
        "\n",
        "* Note: Some programs give you multiple options for plain text. If this is the case in your program, make sure that you do _NOT_ select *Unicode (UTF-16).\n",
        "\n",
        ">\n",
        "\n",
        "**On Github**\n",
        "1. Create a data repository on Github (e.g., Temp_Data).\n",
        "2. Upload your text file on a data repository.\n",
        "> [Add file] -> [Upload files] -> \"Drag files here to add them to your repository or Choose your files.\n",
        "3. Hit \"Commit changes\"\n",
        "\n",
        "### 🐼🍎  <font color = 'green'> **Now you are ready to use codelines below. Good luck!**"
      ],
      "metadata": {
        "id": "xqIBAjzWtXyq"
      }
    },
    {
      "cell_type": "markdown",
      "source": [
        "## 📙 **Open & Close**\n",
        "\n",
        "| 모드     | 설명  |\n",
        "|:--------|:-:|\n",
        "| r or rt | 텍스트 모드로 읽기 |\n",
        "| w or wt | 텍스트 모드로 쓰기 |\n",
        "| a or at | 텍스트 모드로 파일 마지막에 추가하기 |\n",
        "| rb| binary 모드로 읽기 |\n",
        "| wb | binary 모드로 쓰기 |\n",
        "| ab| binary 모드로 마지막에 추가하기|\n",
        ">\n",
        "#### 🎲 파일을 열 때에는 내장함수 (open(인자1, 인자2))을 사용한다.\n",
        "  \n",
        "  - 첫번째 인자에 파일 포멧까지 적어준다.\n",
        "  - 첫번째 인자는 파일이름만 쓰거나 전체적인 directory을 d: / / 등으로 슬래시를 사용하여 표시할 수 있다.\n",
        "  - 예시\n",
        "      - file1 = open('이미지파일.jpg', 'rb')\n",
        "      - file2 = open('텍스트파일.txt', 'rt')\n",
        "\n",
        ">\n",
        "#### 🎲🎲   읽을 수 있는 모드로 파일을 먼저 호출 했으면, ➡️ 이 파일 안에 내용을 읽을 때에는 내장함수 read()를 사용한다. 파일변수 입력 후, Period 찍고, read() 내장함수를 입력한다. (예시: variable.read()).\n",
        "\n",
        "#### 🎲🎲🎲   파일을 닫을 때에는 열어놓은 파일 변수 입력 후, Period 찍고, close() 내장함수를 입력한다. (예시: variable.close())\n",
        "\n"
      ],
      "metadata": {
        "id": "k038ga9yzwc_"
      }
    },
    {
      "cell_type": "markdown",
      "source": [
        "####**<font color = 'brown'> 1. about URL** </font>\n",
        "  - http://google.com\n",
        "  - http://github.com\n",
        "  - http://gamil.com"
      ],
      "metadata": {
        "id": "dK1rys_JnMxK"
      }
    },
    {
      "cell_type": "code",
      "source": [
        "#@markdown ### 🐹 <font color = 'red'>**Student Activity 1** ⤵️\n",
        "\n",
        "#@markdown 👀🐾 **1. Simple way to read and save the content of the url of your chice.**\n",
        "\n",
        "#@markdown **e.g., Print hyper text markup language (html)**\n",
        "\n",
        "from urllib.request import urlopen\n",
        "\n",
        "url = 'https://google.com/'\n",
        "\n",
        "with urlopen(url) as f:\n",
        "  content = f.read().decode()\n",
        "  with open('google_html', 'w') as cf:\n",
        "    cf.write(content)"
      ],
      "metadata": {
        "id": "YLHknzh4pwVV"
      },
      "execution_count": null,
      "outputs": []
    },
    {
      "cell_type": "markdown",
      "source": [
        "## 📙 **Making a directory & uploading files on Colab**\n",
        "* Colab 작업 디렉토리에서 폴더를 생성하여 다른 곳에서 다운로드 받은 단/복수의 파일을 옮겨 넣는 방법\n",
        "  * 코랩에 기본으로 깔려 있는 sample_data 에 커서를 대면 활성화되면서 우측에 세로 점 3 개가 나타난다. 거기를 클릭하면 선택사항 -> [new folder]를 클릭한다.\n",
        "  * [new folder]를 drag해서 [sample_data] 쪽으로 끌어오면, 해당 폴더가 이동하여 폴더 레벨이 높아진다.\n",
        "  * [new folder]에 커서를 대면 활성화되면서 우측에 세로 점 3 개가 나타난다. 클릭해서 폴더명을 새이름으로 바꾼다. e.g., [Uename Folder] -> [exercise]\n",
        "  * 해당 폴더에 cursor를 접근시키면 폴더가 활성화되면서 우측에 세로 점 3 개가 나타난다. Upload 클릭해서 본인 컴퓨터에 다운로드 받은 복수의 파일을 모두 업로드 한다.\n"
      ],
      "metadata": {
        "id": "EazumxaG0c0a"
      }
    },
    {
      "cell_type": "markdown",
      "source": [
        "####**<font color = 'brown'> 3. Read text I**"
      ],
      "metadata": {
        "id": "79w9VyrTRPuU"
      }
    },
    {
      "cell_type": "code",
      "source": [
        "#@markdown ### 🐹 <font color = 'red'>**Student Activity 2** ⤵️\n",
        "\n",
        "#@markdown 👀🐾 **Read and close a text file from the Colab directory.**\n",
        "\n",
        "file=open('/content/sample_data/Crime_Punishment_Sample.txt','rt')\n",
        "\n",
        "txt = file.read()\n",
        "print(txt)\n",
        "file.close()"
      ],
      "metadata": {
        "id": "nV9CfiZ2kdGo",
        "outputId": "31ae6990-1350-4b99-b1f1-aea812c9c44c",
        "colab": {
          "base_uri": "https://localhost:8080/"
        }
      },
      "execution_count": null,
      "outputs": [
        {
          "output_type": "stream",
          "name": "stdout",
          "text": [
            "He had successfully avoided meeting his landlady on the stairs. His closet of a room was under the roof of a high, five-floor house and was more like a cupboard than a place in which to live. The landlady who provided him with the room and with dinner and service lived on the floor below, and every time he went out he was obliged to pass her kitchen, the door of which was always open. And each time he passed, the young man had a sick, frightened feeling, which made him grimace and feel ashamed. He was hopelessly in debt to his landlady and was afraid of meeting her.\n",
            "\n",
            "This was not because he was cowardly and browbeaten, quite the contrary; but for some time past he had been in an overstrained irritable condition, verging on hypochondria. He had become so completely absorbed in himself and isolated from everyone else that he dreaded meeting not only his landlady, but anyone at all. He was crushed by poverty, but even the anxieties of his position had recently ceased to weigh upon him. He had given up attending to matters of practical importance; he had lost all desire to do so. In fact, nothing that any landlady could do held any terror for him. But to be stopped on the stairs, to be forced to listen to her trivial, irrelevant gossip, to pestering demands for payment, threats and complaints, all the while racking his brains for excuses, avoiding the issue, lying — no, he would rather creep down the stairs like a cat and slip out unseen.\n",
            "\n",
            "However, when he emerged onto the street that evening, he became acutely aware of his fears.\n",
            "\n",
            "“I want to attempt a thing like that and am frightened by these trifles,” he thought, with an odd smile. “Hm . . . yes, everything is in someone’s hands and they let it all slip out of cowardice, that’s an axiom. It would be interesting to know what it is people are most afraid of. Taking a new step, uttering a new word is what they fear most . . . But I am talking too much. It’s because I babble that I do nothing. Or perhaps it is that I babble because I do nothing. I’ve learned to babble this last month, lying for days on end in my corner thinking . . . just nonsense. Why am I going there now? Am I capable of that? Is that seriously possible? I’m not serious about it at all. It’s just a fantasy to amuse myself; a plaything! Yes, maybe it is a plaything.”\n",
            "\n",
            "The heat in the street was terrible: and the airlessness, the bustle, the plaster, the scaffolding, the bricks and the dust all around him, and that special Petersburg stench, so familiar to everyone who is unable to get out of town during the summer — all worked painfully upon the young man’s already overwrought nerves. The unbearable stench from the taverns, which are particularly numerous in that part of the town, and the drunken men whom he met continually, although it was a weekday, completed the revolting misery of the picture. An expression of the deepest disgust gleamed for a moment in the young man’s refined face. He was, by the way, exceptionally handsome, above average in height, slim, well-built, with beautiful dark eyes and dark brown hair. Soon, though, he sank into deep thought, or more accurately speaking into a complete blankness of mind; he walked along not observing what was around him and not caring to observe it. From time to time, because he used to talk to himself, he would mutter something, a habit to which he had just confessed. At these moments he would become conscious that his ideas were sometimes in a tangle and that he was very weak; for two days he had had almost nothing to eat.\n",
            "\n",
            "He was so badly dressed that even a man accustomed to shabbiness would have been ashamed to be seen in the street in such rags. In that part of town, however, scarcely any shortcoming in dress would have created surprise. Due to the proximity of the Haymarket, the number of establishments of a certain kind and the overwhelming numbers of craftsmen and workers crowded in these streets and alleys at the center of Petersburg, so many different types of people were to be seen in the streets that no figure, however strange, would have caused surprise. But there was such accumulated spite and contempt in the young man’s heart, that, in spite of all the cares of youth, he minded his rags least of all. It was a different matter when he met with acquaintances or with former fellow students, whom, indeed, he disliked meeting at any time. And yet when a drunken man who, for some unknown reason, was being taken somewhere in a huge cart dragged by a heavy cart-horse, suddenly shouted at him as he drove past, “Hey there, German hatter,” bellowing at the top of his voice and pointing at him — the young man stopped suddenly and clutched trembling at his hat. It was a tall round one from Zimmermann’s, but completely worn out, rusty with age, all torn and bespattered, brimless and bent on one side in a most hideous fashion. Not shame, however, but another feeling akin to terror had overtaken him.\n",
            "\n"
          ]
        }
      ]
    },
    {
      "cell_type": "markdown",
      "source": [
        "####**<font color = 'brown'> 3. Read text II**"
      ],
      "metadata": {
        "id": "xt9W0hyKwsG7"
      }
    },
    {
      "cell_type": "code",
      "execution_count": null,
      "metadata": {
        "colab": {
          "base_uri": "https://localhost:8080/"
        },
        "id": "MxDqHEW_Fb0f",
        "outputId": "d49aa2ba-984c-45c0-b76a-a23ffcdf07d0"
      },
      "outputs": [
        {
          "output_type": "stream",
          "name": "stdout",
          "text": [
            "He had successfully avoided meeting his landlady on the stairs. His closet of a room was under the roof of a high, five-floor house and was more like a cupboard than a place in which to live. The landlady who provided him with the room and with dinner and service lived on the floor below, and every time he went out he was obliged to pass her kitchen, the door of which was always open. And each time he passed, the young man had a sick, frightened feeling, which made him grimace and feel ashamed. He was hopelessly in debt to his landlady and was afraid of meeting her.\n",
            "\n",
            "This was not because he was cowardly and browbeaten, quite the contrary; but for some time past he had been in an overstrained irritable condition, verging on hypochondria. He had become so completely absorbed in himself and isolated from everyone else that he dreaded meeting not only his landlady, but anyone at all. He was crushed by poverty, but even the anxieties of his position had recently ceased to weigh upon him. He had given up attending to matters of practical importance; he had lost all desire to do so. In fact, nothing that any landlady could do held any terror for him. But to be stopped on the stairs, to be forced to listen to her trivial, irrelevant gossip, to pestering demands for payment, threats and complaints, all the while racking his brains for excuses, avoiding the issue, lying — no, he would rather creep down the stairs like a cat and slip out unseen.\n",
            "\n",
            "However, when he emerged onto the street that evening, he became acutely aware of his fears.\n",
            "\n",
            "“I want to attempt a thing like that and am frightened by these trifles,” he thought, with an odd smile. “Hm . . . yes, everything is in someone’s hands and they let it all slip out of cowardice, that’s an axiom. It would be interesting to know what it is people are most afraid of. Taking a new step, uttering a new word is what they fear most . . . But I am talking too much. It’s because I babble that I do nothing. Or perhaps it is that I babble because I do nothing. I’ve learned to babble this last month, lying for days on end in my corner thinking . . . just nonsense. Why am I going there now? Am I capable of that? Is that seriously possible? I’m not serious about it at all. It’s just a fantasy to amuse myself; a plaything! Yes, maybe it is a plaything.”\n",
            "\n",
            "The heat in the street was terrible: and the airlessness, the bustle, the plaster, the scaffolding, the bricks and the dust all around him, and that special Petersburg stench, so familiar to everyone who is unable to get out of town during the summer — all worked painfully upon the young man’s already overwrought nerves. The unbearable stench from the taverns, which are particularly numerous in that part of the town, and the drunken men whom he met continually, although it was a weekday, completed the revolting misery of the picture. An expression of the deepest disgust gleamed for a moment in the young man’s refined face. He was, by the way, exceptionally handsome, above average in height, slim, well-built, with beautiful dark eyes and dark brown hair. Soon, though, he sank into deep thought, or more accurately speaking into a complete blankness of mind; he walked along not observing what was around him and not caring to observe it. From time to time, because he used to talk to himself, he would mutter something, a habit to which he had just confessed. At these moments he would become conscious that his ideas were sometimes in a tangle and that he was very weak; for two days he had had almost nothing to eat.\n",
            "\n",
            "He was so badly dressed that even a man accustomed to shabbiness would have been ashamed to be seen in the street in such rags. In that part of town, however, scarcely any shortcoming in dress would have created surprise. Due to the proximity of the Haymarket, the number of establishments of a certain kind and the overwhelming numbers of craftsmen and workers crowded in these streets and alleys at the center of Petersburg, so many different types of people were to be seen in the streets that no figure, however strange, would have caused surprise. But there was such accumulated spite and contempt in the young man’s heart, that, in spite of all the cares of youth, he minded his rags least of all. It was a different matter when he met with acquaintances or with former fellow students, whom, indeed, he disliked meeting at any time. And yet when a drunken man who, for some unknown reason, was being taken somewhere in a huge cart dragged by a heavy cart-horse, suddenly shouted at him as he drove past, “Hey there, German hatter,” bellowing at the top of his voice and pointing at him — the young man stopped suddenly and clutched trembling at his hat. It was a tall round one from Zimmermann’s, but completely worn out, rusty with age, all torn and bespattered, brimless and bent on one side in a most hideous fashion. Not shame, however, but another feeling akin to terror had overtaken him.\n",
            "\n"
          ]
        }
      ],
      "source": [
        "#@markdown ### 🐹 <font color = 'brown'>**Student Activity 3** ⤵️\n",
        "\n",
        "#@markdown 👀🐾 **Read the content of the url of your choice.**\n",
        "#@markdown **e.g., url with .txt**\n",
        "\n",
        "import urllib.request\n",
        "url = \"https://raw.githubusercontent.com/ms624atyale/NLP_2024/refs/heads/main/Sample_ClassActivity/Crime_Punishment_Sample.txt\"\n",
        "response = urllib.request.urlopen(url)\n",
        "content= response.read().decode('utf-8')\n",
        "print(content)\n"
      ]
    },
    {
      "cell_type": "code",
      "source": [
        "#@markdown 🐹🐾 **Print text with \\n (lines)**\n",
        "#>\n",
        "\n",
        "from urllib.request import urlopen\n",
        "\n",
        "url = \"https://raw.githubusercontent.com/ms624atyale/NLP_2024/refs/heads/main/Sample_ClassActivity/Crime_Punishment_Sample.txt\"\n",
        "\n",
        "with urlopen(url) as f:\n",
        "  content =f.read().decode()\n",
        "  with open('crime_punish_copied.html','wt') as cf:\n",
        "    cf.write(content)\n",
        "\n",
        "file = open(\"/content/crime_punish_copied.html\", \"rt\")\n",
        "file.read()"
      ],
      "metadata": {
        "colab": {
          "base_uri": "https://localhost:8080/",
          "height": 904
        },
        "id": "5qEQi0fzsyiz",
        "outputId": "d4ea1759-d1ce-4d93-ecbd-e17f668edf8f"
      },
      "execution_count": null,
      "outputs": [
        {
          "output_type": "execute_result",
          "data": {
            "text/plain": [
              "'He had successfully avoided meeting his landlady on the stairs. His closet of a room was under the roof of a high, five-floor house and was more like a cupboard than a place in which to live. The landlady who provided him with the room and with dinner and service lived on the floor below, and every time he went out he was obliged to pass her kitchen, the door of which was always open. And each time he passed, the young man had a sick, frightened feeling, which made him grimace and feel ashamed. He was hopelessly in debt to his landlady and was afraid of meeting her.\\n\\nThis was not because he was cowardly and browbeaten, quite the contrary; but for some time past he had been in an overstrained irritable condition, verging on hypochondria. He had become so completely absorbed in himself and isolated from everyone else that he dreaded meeting not only his landlady, but anyone at all. He was crushed by poverty, but even the anxieties of his position had recently ceased to weigh upon him. He had given up attending to matters of practical importance; he had lost all desire to do so. In fact, nothing that any landlady could do held any terror for him. But to be stopped on the stairs, to be forced to listen to her trivial, irrelevant gossip, to pestering demands for payment, threats and complaints, all the while racking his brains for excuses, avoiding the issue, lying — no, he would rather creep down the stairs like a cat and slip out unseen.\\n\\nHowever, when he emerged onto the street that evening, he became acutely aware of his fears.\\n\\n“I want to attempt a thing like that and am frightened by these trifles,” he thought, with an odd smile. “Hm . . . yes, everything is in someone’s hands and they let it all slip out of cowardice, that’s an axiom. It would be interesting to know what it is people are most afraid of. Taking a new step, uttering a new word is what they fear most . . . But I am talking too much. It’s because I babble that I do nothing. Or perhaps it is that I babble because I do nothing. I’ve learned to babble this last month, lying for days on end in my corner thinking . . . just nonsense. Why am I going there now? Am I capable of that? Is that seriously possible? I’m not serious about it at all. It’s just a fantasy to amuse myself; a plaything! Yes, maybe it is a plaything.”\\n\\nThe heat in the street was terrible: and the airlessness, the bustle, the plaster, the scaffolding, the bricks and the dust all around him, and that special Petersburg stench, so familiar to everyone who is unable to get out of town during the summer — all worked painfully upon the young man’s already overwrought nerves. The unbearable stench from the taverns, which are particularly numerous in that part of the town, and the drunken men whom he met continually, although it was a weekday, completed the revolting misery of the picture. An expression of the deepest disgust gleamed for a moment in the young man’s refined face. He was, by the way, exceptionally handsome, above average in height, slim, well-built, with beautiful dark eyes and dark brown hair. Soon, though, he sank into deep thought, or more accurately speaking into a complete blankness of mind; he walked along not observing what was around him and not caring to observe it. From time to time, because he used to talk to himself, he would mutter something, a habit to which he had just confessed. At these moments he would become conscious that his ideas were sometimes in a tangle and that he was very weak; for two days he had had almost nothing to eat.\\n\\nHe was so badly dressed that even a man accustomed to shabbiness would have been ashamed to be seen in the street in such rags. In that part of town, however, scarcely any shortcoming in dress would have created surprise. Due to the proximity of the Haymarket, the number of establishments of a certain kind and the overwhelming numbers of craftsmen and workers crowded in these streets and alleys at the center of Petersburg, so many different types of people were to be seen in the streets that no figure, however strange, would have caused surprise. But there was such accumulated spite and contempt in the young man’s heart, that, in spite of all the cares of youth, he minded his rags least of all. It was a different matter when he met with acquaintances or with former fellow students, whom, indeed, he disliked meeting at any time. And yet when a drunken man who, for some unknown reason, was being taken somewhere in a huge cart dragged by a heavy cart-horse, suddenly shouted at him as he drove past, “Hey there, German hatter,” bellowing at the top of his voice and pointing at him — the young man stopped suddenly and clutched trembling at his hat. It was a tall round one from Zimmermann’s, but completely worn out, rusty with age, all torn and bespattered, brimless and bent on one side in a most hideous fashion. Not shame, however, but another feeling akin to terror had overtaken him.\\n'"
            ],
            "application/vnd.google.colaboratory.intrinsic+json": {
              "type": "string"
            }
          },
          "metadata": {},
          "execution_count": 14
        }
      ]
    },
    {
      "cell_type": "code",
      "source": [
        "#@markdown 🐹🐾 **Delete lines (i.e., 줄 생략해서 Space로 대체하기)**\n",
        "#>\n",
        "#@markdown File name: Data_Misc Rep. on ms624atyale ▶️ crime_punish_ch_one.txt\n",
        "from urllib.request import urlopen\n",
        "\n",
        "url = \"https://raw.githubusercontent.com/ms624atyale/NLP_2024/refs/heads/main/Sample_ClassActivity/Crime_Punishment_Sample.txt\"\n",
        "\n",
        "with urlopen(url) as f:\n",
        "  doc =f.read().decode()\n",
        "  with open('crime_punish_copied.html','wt') as cf:\n",
        "    cf.write(doc)\n",
        "\n",
        "file = open(\"/content/crime_punish_copied.html\", \"rt\")\n",
        "file.read().replace(\"\\n\",\" \")"
      ],
      "metadata": {
        "colab": {
          "base_uri": "https://localhost:8080/",
          "height": 886
        },
        "id": "XhALkXH6pxdL",
        "outputId": "f3078a3c-79cb-482a-fac2-909d82a4d9b3"
      },
      "execution_count": null,
      "outputs": [
        {
          "output_type": "execute_result",
          "data": {
            "text/plain": [
              "'He had successfully avoided meeting his landlady on the stairs. His closet of a room was under the roof of a high, five-floor house and was more like a cupboard than a place in which to live. The landlady who provided him with the room and with dinner and service lived on the floor below, and every time he went out he was obliged to pass her kitchen, the door of which was always open. And each time he passed, the young man had a sick, frightened feeling, which made him grimace and feel ashamed. He was hopelessly in debt to his landlady and was afraid of meeting her.  This was not because he was cowardly and browbeaten, quite the contrary; but for some time past he had been in an overstrained irritable condition, verging on hypochondria. He had become so completely absorbed in himself and isolated from everyone else that he dreaded meeting not only his landlady, but anyone at all. He was crushed by poverty, but even the anxieties of his position had recently ceased to weigh upon him. He had given up attending to matters of practical importance; he had lost all desire to do so. In fact, nothing that any landlady could do held any terror for him. But to be stopped on the stairs, to be forced to listen to her trivial, irrelevant gossip, to pestering demands for payment, threats and complaints, all the while racking his brains for excuses, avoiding the issue, lying — no, he would rather creep down the stairs like a cat and slip out unseen.  However, when he emerged onto the street that evening, he became acutely aware of his fears.  “I want to attempt a thing like that and am frightened by these trifles,” he thought, with an odd smile. “Hm . . . yes, everything is in someone’s hands and they let it all slip out of cowardice, that’s an axiom. It would be interesting to know what it is people are most afraid of. Taking a new step, uttering a new word is what they fear most . . . But I am talking too much. It’s because I babble that I do nothing. Or perhaps it is that I babble because I do nothing. I’ve learned to babble this last month, lying for days on end in my corner thinking . . . just nonsense. Why am I going there now? Am I capable of that? Is that seriously possible? I’m not serious about it at all. It’s just a fantasy to amuse myself; a plaything! Yes, maybe it is a plaything.”  The heat in the street was terrible: and the airlessness, the bustle, the plaster, the scaffolding, the bricks and the dust all around him, and that special Petersburg stench, so familiar to everyone who is unable to get out of town during the summer — all worked painfully upon the young man’s already overwrought nerves. The unbearable stench from the taverns, which are particularly numerous in that part of the town, and the drunken men whom he met continually, although it was a weekday, completed the revolting misery of the picture. An expression of the deepest disgust gleamed for a moment in the young man’s refined face. He was, by the way, exceptionally handsome, above average in height, slim, well-built, with beautiful dark eyes and dark brown hair. Soon, though, he sank into deep thought, or more accurately speaking into a complete blankness of mind; he walked along not observing what was around him and not caring to observe it. From time to time, because he used to talk to himself, he would mutter something, a habit to which he had just confessed. At these moments he would become conscious that his ideas were sometimes in a tangle and that he was very weak; for two days he had had almost nothing to eat.  He was so badly dressed that even a man accustomed to shabbiness would have been ashamed to be seen in the street in such rags. In that part of town, however, scarcely any shortcoming in dress would have created surprise. Due to the proximity of the Haymarket, the number of establishments of a certain kind and the overwhelming numbers of craftsmen and workers crowded in these streets and alleys at the center of Petersburg, so many different types of people were to be seen in the streets that no figure, however strange, would have caused surprise. But there was such accumulated spite and contempt in the young man’s heart, that, in spite of all the cares of youth, he minded his rags least of all. It was a different matter when he met with acquaintances or with former fellow students, whom, indeed, he disliked meeting at any time. And yet when a drunken man who, for some unknown reason, was being taken somewhere in a huge cart dragged by a heavy cart-horse, suddenly shouted at him as he drove past, “Hey there, German hatter,” bellowing at the top of his voice and pointing at him — the young man stopped suddenly and clutched trembling at his hat. It was a tall round one from Zimmermann’s, but completely worn out, rusty with age, all torn and bespattered, brimless and bent on one side in a most hideous fashion. Not shame, however, but another feeling akin to terror had overtaken him. '"
            ],
            "application/vnd.google.colaboratory.intrinsic+json": {
              "type": "string"
            }
          },
          "metadata": {},
          "execution_count": 13
        }
      ]
    },
    {
      "cell_type": "markdown",
      "source": [
        "💣 💊 **Caution:**\n",
        "\n",
        "If you try to clone the whole repository again, you will get an error message unless you delete all files and their empty folder.\n",
        "\n",
        "The error messages goes;⤵️\n",
        "\n",
        "<font color = 'red'> **fatal: destination path 'NLP_2024' already exists and is not an empty directory.**"
      ],
      "metadata": {
        "id": "KFHVs4DDeNF8"
      }
    },
    {
      "cell_type": "code",
      "source": [
        "! git clone https://github.com/ms624atyale/NLP_2024"
      ],
      "metadata": {
        "id": "svt8cjJPeIr3"
      },
      "execution_count": null,
      "outputs": []
    },
    {
      "cell_type": "markdown",
      "source": [
        "#🐥🐥 **direct text input with triple single quotes or triple double quotes***"
      ],
      "metadata": {
        "id": "3z4C013TvPS8"
      }
    },
    {
      "cell_type": "code",
      "source": [
        "txt = \"\"\"\n",
        "Alice was beginning to get very tired of sitting by her sister on the\n",
        "bank, and of having nothing to do: once or twice she had peeped into\n",
        "the book her sister was reading, but it had no pictures or\n",
        "conversations in it, “and what is the use of a book,” thought Alice\n",
        "“without pictures or conversations?”\n",
        "\n",
        "So she was considering in her own mind (as well as she could, for the\n",
        "hot day made her feel very sleepy and stupid), whether the pleasure of\n",
        "making a daisy-chain would be worth the trouble of getting up and\n",
        "picking the daisies, when suddenly a White Rabbit with pink eyes ran\n",
        "close by her.\n",
        "\n",
        "There was nothing so very remarkable in that; nor did Alice think it\n",
        "so _very_ much out of the way to hear the Rabbit say to itself, “Oh\n",
        "dear! Oh dear! I shall be late!” (when she thought it over afterwards,\n",
        "it occurred to her that she ought to have wondered at this, but at the\n",
        "time it all seemed quite natural); but when the Rabbit actually took a\n",
        "watch out of its waistcoat-pocket, and looked at it, and then hurried\n",
        "on, Alice started to her feet, for it flashed across her mind that she\n",
        "had never before seen a rabbit with either a waistcoat-pocket, or a\n",
        "watch to take out of it, and burning with curiosity, she ran across the\n",
        "field after it, and fortunately was just in time to see it pop down a\n",
        "large rabbit-hole under the hedge.\n",
        "\"\"\"\n",
        "\n",
        "print(txt)\n",
        "print('\\n')\n",
        "\n",
        "test = '''\n",
        "Alice was beginning to get very tired of sitting by her sister on the\n",
        "bank, and of having nothing to do: once or twice she had peeped into\n",
        "the book her sister was reading, but it had no pictures or\n",
        "conversations in it, “and what is the use of a book,” thought Alice\n",
        "“without pictures or conversations?”\n",
        "\n",
        "So she was considering in her own mind (as well as she could, for the\n",
        "hot day made her feel very sleepy and stupid), whether the pleasure of\n",
        "making a daisy-chain would be worth the trouble of getting up and\n",
        "picking the daisies, when suddenly a White Rabbit with pink eyes ran\n",
        "close by her.\n",
        "\n",
        "There was nothing so very remarkable in that; nor did Alice think it\n",
        "so _very_ much out of the way to hear the Rabbit say to itself, “Oh\n",
        "dear! Oh dear! I shall be late!” (when she thought it over afterwards,\n",
        "it occurred to her that she ought to have wondered at this, but at the\n",
        "time it all seemed quite natural); but when the Rabbit actually took a\n",
        "watch out of its waistcoat-pocket, and looked at it, and then hurried\n",
        "on, Alice started to her feet, for it flashed across her mind that she\n",
        "had never before seen a rabbit with either a waistcoat-pocket, or a\n",
        "watch to take out of it, and burning with curiosity, she ran across the\n",
        "field after it, and fortunately was just in time to see it pop down a\n",
        "large rabbit-hole under the hedge.\n",
        "'''\n",
        "print(test)\n"
      ],
      "metadata": {
        "colab": {
          "base_uri": "https://localhost:8080/"
        },
        "id": "s1xxWG8FvrsQ",
        "outputId": "18643e14-1532-4490-c94d-24ae6264b01d"
      },
      "execution_count": null,
      "outputs": [
        {
          "output_type": "stream",
          "name": "stdout",
          "text": [
            "\n",
            "Alice was beginning to get very tired of sitting by her sister on the\n",
            "bank, and of having nothing to do: once or twice she had peeped into\n",
            "the book her sister was reading, but it had no pictures or\n",
            "conversations in it, “and what is the use of a book,” thought Alice\n",
            "“without pictures or conversations?”\n",
            "\n",
            "So she was considering in her own mind (as well as she could, for the\n",
            "hot day made her feel very sleepy and stupid), whether the pleasure of\n",
            "making a daisy-chain would be worth the trouble of getting up and\n",
            "picking the daisies, when suddenly a White Rabbit with pink eyes ran\n",
            "close by her.\n",
            "\n",
            "There was nothing so very remarkable in that; nor did Alice think it\n",
            "so _very_ much out of the way to hear the Rabbit say to itself, “Oh\n",
            "dear! Oh dear! I shall be late!” (when she thought it over afterwards,\n",
            "it occurred to her that she ought to have wondered at this, but at the\n",
            "time it all seemed quite natural); but when the Rabbit actually took a\n",
            "watch out of its waistcoat-pocket, and looked at it, and then hurried\n",
            "on, Alice started to her feet, for it flashed across her mind that she\n",
            "had never before seen a rabbit with either a waistcoat-pocket, or a\n",
            "watch to take out of it, and burning with curiosity, she ran across the\n",
            "field after it, and fortunately was just in time to see it pop down a\n",
            "large rabbit-hole under the hedge.\n",
            "\n",
            "\n",
            "\n",
            "\n",
            "Alice was beginning to get very tired of sitting by her sister on the\n",
            "bank, and of having nothing to do: once or twice she had peeped into\n",
            "the book her sister was reading, but it had no pictures or\n",
            "conversations in it, “and what is the use of a book,” thought Alice\n",
            "“without pictures or conversations?”\n",
            "\n",
            "So she was considering in her own mind (as well as she could, for the\n",
            "hot day made her feel very sleepy and stupid), whether the pleasure of\n",
            "making a daisy-chain would be worth the trouble of getting up and\n",
            "picking the daisies, when suddenly a White Rabbit with pink eyes ran\n",
            "close by her.\n",
            "\n",
            "There was nothing so very remarkable in that; nor did Alice think it\n",
            "so _very_ much out of the way to hear the Rabbit say to itself, “Oh\n",
            "dear! Oh dear! I shall be late!” (when she thought it over afterwards,\n",
            "it occurred to her that she ought to have wondered at this, but at the\n",
            "time it all seemed quite natural); but when the Rabbit actually took a\n",
            "watch out of its waistcoat-pocket, and looked at it, and then hurried\n",
            "on, Alice started to her feet, for it flashed across her mind that she\n",
            "had never before seen a rabbit with either a waistcoat-pocket, or a\n",
            "watch to take out of it, and burning with curiosity, she ran across the\n",
            "field after it, and fortunately was just in time to see it pop down a\n",
            "large rabbit-hole under the hedge.\n",
            "\n"
          ]
        }
      ]
    },
    {
      "cell_type": "markdown",
      "source": [
        "#🐼🍎 <font color = 'purple'>**Before we go futher...**"
      ],
      "metadata": {
        "id": "m3LOTqSQSeGJ"
      }
    },
    {
      "cell_type": "code",
      "source": [
        "#@markdown # 📚 **Python Libraries & Pipeline for tokenization**\n",
        "from IPython.display import display\n",
        "import ipywidgets as widgets\n",
        "import requests\n",
        "\n",
        "def on_button_click(button):\n",
        "    sn = int(button.description) - 1\n",
        "    image.value = requests.get(urls[sn]).content\n",
        "\n",
        "urls = [ \"https://raw.githubusercontent.com/junkyuhufs/workshop/main/slide.07.png\",\n",
        "         \"https://raw.githubusercontent.com/junkyuhufs/workshop/main/slide.08.png\",\n",
        "         \"https://raw.githubusercontent.com/junkyuhufs/workshop/main/slide.11.png\"\n",
        "]\n",
        "\n",
        "button_layout = widgets.Layout(width='50px', height='30px')\n",
        "\n",
        "buttons = [widgets.Button(description=str(i), layout=button_layout) for i in range(1, 4)]\n",
        "for button in buttons:\n",
        "    button.on_click(on_button_click)\n",
        "\n",
        "image = widgets.Image(value=requests.get(urls[0]).content, width=\"700\", height=\"600\")\n",
        "\n",
        "display(widgets.HBox([image, widgets.VBox(buttons)]))"
      ],
      "metadata": {
        "id": "CJmubsJQSexp",
        "outputId": "b254da00-23ff-4ba8-8785-2410e7cef503",
        "colab": {
          "base_uri": "https://localhost:8080/",
          "height": 416,
          "referenced_widgets": [
            "c7663a091c3b4ddab0bc988547424a3c",
            "469c6c9c911841bb9f6c74cb41eee672",
            "1cdc1ed52d5849439fa6db00dffc71ff",
            "3e5c3871290a49a9a0701c2ec4ed23a6",
            "d94fdd8a133a433487bbbaacb63ec82f",
            "35aba5c01a4e41c287cafa02530c7a54",
            "507f117b2fa3426bb06010ab7f009bf5",
            "4043d9dd7c4442bfa0aae1357fb59e1f",
            "a8ad3b06411348d2956be36bfd0f51ef",
            "2d4a9a05c9684dd0b918ca5dc5c19521",
            "eced43180e2b4198b2aeaa9fca9850b8",
            "1378390099b94f1e8bf51b2f59790fec",
            "7158ef82bdf1442e8efd5cea86c264b8"
          ]
        }
      },
      "execution_count": null,
      "outputs": [
        {
          "output_type": "display_data",
          "data": {
            "text/plain": [
              "HBox(children=(Image(value=b'\\x89PNG\\r\\n\\x1a\\n\\x00\\x00\\x00\\rIHDR\\x00\\x00\\x03+\\x00\\x00\\x01\\xc8\\x08\\x06\\x00\\x00\\…"
            ],
            "application/vnd.jupyter.widget-view+json": {
              "version_major": 2,
              "version_minor": 0,
              "model_id": "c7663a091c3b4ddab0bc988547424a3c"
            }
          },
          "metadata": {}
        }
      ]
    }
  ]
}