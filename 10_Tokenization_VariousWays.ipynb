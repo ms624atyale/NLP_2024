{
  "nbformat": 4,
  "nbformat_minor": 0,
  "metadata": {
    "colab": {
      "provenance": [],
      "authorship_tag": "ABX9TyMo0Hb8pP2WcwXPtsDCv3+c",
      "include_colab_link": true
    },
    "kernelspec": {
      "name": "python3",
      "display_name": "Python 3"
    },
    "language_info": {
      "name": "python"
    },
    "widgets": {
      "application/vnd.jupyter.widget-state+json": {
        "37df8d7835b54687b9205bdb6906b1ef": {
          "model_module": "@jupyter-widgets/controls",
          "model_name": "HBoxModel",
          "model_module_version": "1.5.0",
          "state": {
            "_dom_classes": [],
            "_model_module": "@jupyter-widgets/controls",
            "_model_module_version": "1.5.0",
            "_model_name": "HBoxModel",
            "_view_count": null,
            "_view_module": "@jupyter-widgets/controls",
            "_view_module_version": "1.5.0",
            "_view_name": "HBoxView",
            "box_style": "",
            "children": [
              "IPY_MODEL_ecf05dc093da44b3af3a17bdeb32683f",
              "IPY_MODEL_25eabccb91e44496ad79299ba223b986"
            ],
            "layout": "IPY_MODEL_024863acee5145c0ba5e7298d1b10b89"
          }
        },
        "ecf05dc093da44b3af3a17bdeb32683f": {
          "model_module": "@jupyter-widgets/controls",
          "model_name": "ImageModel",
          "model_module_version": "1.5.0",
          "state": {
            "_dom_classes": [],
            "_model_module": "@jupyter-widgets/controls",
            "_model_module_version": "1.5.0",
            "_model_name": "ImageModel",
            "_view_count": null,
            "_view_module": "@jupyter-widgets/controls",
            "_view_module_version": "1.5.0",
            "_view_name": "ImageView",
            "format": "png",
            "height": "600",
            "layout": "IPY_MODEL_6fbac37448fb487790c61f32ed6a2090",
            "width": "700"
          }
        },
        "25eabccb91e44496ad79299ba223b986": {
          "model_module": "@jupyter-widgets/controls",
          "model_name": "VBoxModel",
          "model_module_version": "1.5.0",
          "state": {
            "_dom_classes": [],
            "_model_module": "@jupyter-widgets/controls",
            "_model_module_version": "1.5.0",
            "_model_name": "VBoxModel",
            "_view_count": null,
            "_view_module": "@jupyter-widgets/controls",
            "_view_module_version": "1.5.0",
            "_view_name": "VBoxView",
            "box_style": "",
            "children": [
              "IPY_MODEL_e66faa5344864804bda4a3df399aa1ff",
              "IPY_MODEL_43384832fa654feab4ead81260089506",
              "IPY_MODEL_68239deea3384a92874261a75d5af715"
            ],
            "layout": "IPY_MODEL_89db0596ae124941a29b1f22b27f074d"
          }
        },
        "024863acee5145c0ba5e7298d1b10b89": {
          "model_module": "@jupyter-widgets/base",
          "model_name": "LayoutModel",
          "model_module_version": "1.2.0",
          "state": {
            "_model_module": "@jupyter-widgets/base",
            "_model_module_version": "1.2.0",
            "_model_name": "LayoutModel",
            "_view_count": null,
            "_view_module": "@jupyter-widgets/base",
            "_view_module_version": "1.2.0",
            "_view_name": "LayoutView",
            "align_content": null,
            "align_items": null,
            "align_self": null,
            "border": null,
            "bottom": null,
            "display": null,
            "flex": null,
            "flex_flow": null,
            "grid_area": null,
            "grid_auto_columns": null,
            "grid_auto_flow": null,
            "grid_auto_rows": null,
            "grid_column": null,
            "grid_gap": null,
            "grid_row": null,
            "grid_template_areas": null,
            "grid_template_columns": null,
            "grid_template_rows": null,
            "height": null,
            "justify_content": null,
            "justify_items": null,
            "left": null,
            "margin": null,
            "max_height": null,
            "max_width": null,
            "min_height": null,
            "min_width": null,
            "object_fit": null,
            "object_position": null,
            "order": null,
            "overflow": null,
            "overflow_x": null,
            "overflow_y": null,
            "padding": null,
            "right": null,
            "top": null,
            "visibility": null,
            "width": null
          }
        },
        "6fbac37448fb487790c61f32ed6a2090": {
          "model_module": "@jupyter-widgets/base",
          "model_name": "LayoutModel",
          "model_module_version": "1.2.0",
          "state": {
            "_model_module": "@jupyter-widgets/base",
            "_model_module_version": "1.2.0",
            "_model_name": "LayoutModel",
            "_view_count": null,
            "_view_module": "@jupyter-widgets/base",
            "_view_module_version": "1.2.0",
            "_view_name": "LayoutView",
            "align_content": null,
            "align_items": null,
            "align_self": null,
            "border": null,
            "bottom": null,
            "display": null,
            "flex": null,
            "flex_flow": null,
            "grid_area": null,
            "grid_auto_columns": null,
            "grid_auto_flow": null,
            "grid_auto_rows": null,
            "grid_column": null,
            "grid_gap": null,
            "grid_row": null,
            "grid_template_areas": null,
            "grid_template_columns": null,
            "grid_template_rows": null,
            "height": null,
            "justify_content": null,
            "justify_items": null,
            "left": null,
            "margin": null,
            "max_height": null,
            "max_width": null,
            "min_height": null,
            "min_width": null,
            "object_fit": null,
            "object_position": null,
            "order": null,
            "overflow": null,
            "overflow_x": null,
            "overflow_y": null,
            "padding": null,
            "right": null,
            "top": null,
            "visibility": null,
            "width": null
          }
        },
        "e66faa5344864804bda4a3df399aa1ff": {
          "model_module": "@jupyter-widgets/controls",
          "model_name": "ButtonModel",
          "model_module_version": "1.5.0",
          "state": {
            "_dom_classes": [],
            "_model_module": "@jupyter-widgets/controls",
            "_model_module_version": "1.5.0",
            "_model_name": "ButtonModel",
            "_view_count": null,
            "_view_module": "@jupyter-widgets/controls",
            "_view_module_version": "1.5.0",
            "_view_name": "ButtonView",
            "button_style": "",
            "description": "1",
            "disabled": false,
            "icon": "",
            "layout": "IPY_MODEL_b357d1bdb5984f5c8e69f2e53291e92b",
            "style": "IPY_MODEL_ac02ec652d144e10b8a3cf580b486fc2",
            "tooltip": ""
          }
        },
        "43384832fa654feab4ead81260089506": {
          "model_module": "@jupyter-widgets/controls",
          "model_name": "ButtonModel",
          "model_module_version": "1.5.0",
          "state": {
            "_dom_classes": [],
            "_model_module": "@jupyter-widgets/controls",
            "_model_module_version": "1.5.0",
            "_model_name": "ButtonModel",
            "_view_count": null,
            "_view_module": "@jupyter-widgets/controls",
            "_view_module_version": "1.5.0",
            "_view_name": "ButtonView",
            "button_style": "",
            "description": "2",
            "disabled": false,
            "icon": "",
            "layout": "IPY_MODEL_b357d1bdb5984f5c8e69f2e53291e92b",
            "style": "IPY_MODEL_75ec579f9cc14d7eaea9a72fa298a6c8",
            "tooltip": ""
          }
        },
        "68239deea3384a92874261a75d5af715": {
          "model_module": "@jupyter-widgets/controls",
          "model_name": "ButtonModel",
          "model_module_version": "1.5.0",
          "state": {
            "_dom_classes": [],
            "_model_module": "@jupyter-widgets/controls",
            "_model_module_version": "1.5.0",
            "_model_name": "ButtonModel",
            "_view_count": null,
            "_view_module": "@jupyter-widgets/controls",
            "_view_module_version": "1.5.0",
            "_view_name": "ButtonView",
            "button_style": "",
            "description": "3",
            "disabled": false,
            "icon": "",
            "layout": "IPY_MODEL_b357d1bdb5984f5c8e69f2e53291e92b",
            "style": "IPY_MODEL_e4d33b5955c44c20b81b70221ec2502f",
            "tooltip": ""
          }
        },
        "89db0596ae124941a29b1f22b27f074d": {
          "model_module": "@jupyter-widgets/base",
          "model_name": "LayoutModel",
          "model_module_version": "1.2.0",
          "state": {
            "_model_module": "@jupyter-widgets/base",
            "_model_module_version": "1.2.0",
            "_model_name": "LayoutModel",
            "_view_count": null,
            "_view_module": "@jupyter-widgets/base",
            "_view_module_version": "1.2.0",
            "_view_name": "LayoutView",
            "align_content": null,
            "align_items": null,
            "align_self": null,
            "border": null,
            "bottom": null,
            "display": null,
            "flex": null,
            "flex_flow": null,
            "grid_area": null,
            "grid_auto_columns": null,
            "grid_auto_flow": null,
            "grid_auto_rows": null,
            "grid_column": null,
            "grid_gap": null,
            "grid_row": null,
            "grid_template_areas": null,
            "grid_template_columns": null,
            "grid_template_rows": null,
            "height": null,
            "justify_content": null,
            "justify_items": null,
            "left": null,
            "margin": null,
            "max_height": null,
            "max_width": null,
            "min_height": null,
            "min_width": null,
            "object_fit": null,
            "object_position": null,
            "order": null,
            "overflow": null,
            "overflow_x": null,
            "overflow_y": null,
            "padding": null,
            "right": null,
            "top": null,
            "visibility": null,
            "width": null
          }
        },
        "b357d1bdb5984f5c8e69f2e53291e92b": {
          "model_module": "@jupyter-widgets/base",
          "model_name": "LayoutModel",
          "model_module_version": "1.2.0",
          "state": {
            "_model_module": "@jupyter-widgets/base",
            "_model_module_version": "1.2.0",
            "_model_name": "LayoutModel",
            "_view_count": null,
            "_view_module": "@jupyter-widgets/base",
            "_view_module_version": "1.2.0",
            "_view_name": "LayoutView",
            "align_content": null,
            "align_items": null,
            "align_self": null,
            "border": null,
            "bottom": null,
            "display": null,
            "flex": null,
            "flex_flow": null,
            "grid_area": null,
            "grid_auto_columns": null,
            "grid_auto_flow": null,
            "grid_auto_rows": null,
            "grid_column": null,
            "grid_gap": null,
            "grid_row": null,
            "grid_template_areas": null,
            "grid_template_columns": null,
            "grid_template_rows": null,
            "height": "30px",
            "justify_content": null,
            "justify_items": null,
            "left": null,
            "margin": null,
            "max_height": null,
            "max_width": null,
            "min_height": null,
            "min_width": null,
            "object_fit": null,
            "object_position": null,
            "order": null,
            "overflow": null,
            "overflow_x": null,
            "overflow_y": null,
            "padding": null,
            "right": null,
            "top": null,
            "visibility": null,
            "width": "50px"
          }
        },
        "ac02ec652d144e10b8a3cf580b486fc2": {
          "model_module": "@jupyter-widgets/controls",
          "model_name": "ButtonStyleModel",
          "model_module_version": "1.5.0",
          "state": {
            "_model_module": "@jupyter-widgets/controls",
            "_model_module_version": "1.5.0",
            "_model_name": "ButtonStyleModel",
            "_view_count": null,
            "_view_module": "@jupyter-widgets/base",
            "_view_module_version": "1.2.0",
            "_view_name": "StyleView",
            "button_color": null,
            "font_weight": ""
          }
        },
        "75ec579f9cc14d7eaea9a72fa298a6c8": {
          "model_module": "@jupyter-widgets/controls",
          "model_name": "ButtonStyleModel",
          "model_module_version": "1.5.0",
          "state": {
            "_model_module": "@jupyter-widgets/controls",
            "_model_module_version": "1.5.0",
            "_model_name": "ButtonStyleModel",
            "_view_count": null,
            "_view_module": "@jupyter-widgets/base",
            "_view_module_version": "1.2.0",
            "_view_name": "StyleView",
            "button_color": null,
            "font_weight": ""
          }
        },
        "e4d33b5955c44c20b81b70221ec2502f": {
          "model_module": "@jupyter-widgets/controls",
          "model_name": "ButtonStyleModel",
          "model_module_version": "1.5.0",
          "state": {
            "_model_module": "@jupyter-widgets/controls",
            "_model_module_version": "1.5.0",
            "_model_name": "ButtonStyleModel",
            "_view_count": null,
            "_view_module": "@jupyter-widgets/base",
            "_view_module_version": "1.2.0",
            "_view_name": "StyleView",
            "button_color": null,
            "font_weight": ""
          }
        }
      }
    }
  },
  "cells": [
    {
      "cell_type": "markdown",
      "metadata": {
        "id": "view-in-github",
        "colab_type": "text"
      },
      "source": [
        "<a href=\"https://colab.research.google.com/github/ms624atyale/NLP_2024/blob/main/10_Tokenization_VariousWays.ipynb\" target=\"_parent\"><img src=\"https://colab.research.google.com/assets/colab-badge.svg\" alt=\"Open In Colab\"/></a>"
      ]
    },
    {
      "cell_type": "code",
      "source": [
        "#@markdown # 📚 **Python packages & 🔪Preprocessing전처리**\n",
        "from IPython.display import display\n",
        "import ipywidgets as widgets\n",
        "import requests\n",
        "\n",
        "def on_button_click(button):\n",
        "    sn = int(button.description) - 1\n",
        "    image.value = requests.get(urls[sn]).content\n",
        "\n",
        "urls = [ \"https://raw.githubusercontent.com/junkyuhufs/workshop/main/slide.07.png\",\n",
        "         \"https://raw.githubusercontent.com/junkyuhufs/workshop/main/slide.08.png\",\n",
        "         \"https://raw.githubusercontent.com/junkyuhufs/workshop/main/slide.11.png\"\n",
        "]\n",
        "\n",
        "button_layout = widgets.Layout(width='50px', height='30px')\n",
        "\n",
        "buttons = [widgets.Button(description=str(i), layout=button_layout) for i in range(1, 4)]\n",
        "for button in buttons:\n",
        "    button.on_click(on_button_click)\n",
        "\n",
        "image = widgets.Image(value=requests.get(urls[0]).content, width=\"700\", height=\"600\")\n",
        "\n",
        "display(widgets.HBox([image, widgets.VBox(buttons)]))"
      ],
      "metadata": {
        "id": "Tj8kdbQDwcn3",
        "outputId": "1f56ae21-a7b9-4728-f97f-918f6e99c50e",
        "colab": {
          "base_uri": "https://localhost:8080/",
          "height": 415,
          "referenced_widgets": [
            "37df8d7835b54687b9205bdb6906b1ef",
            "ecf05dc093da44b3af3a17bdeb32683f",
            "25eabccb91e44496ad79299ba223b986",
            "024863acee5145c0ba5e7298d1b10b89",
            "6fbac37448fb487790c61f32ed6a2090",
            "e66faa5344864804bda4a3df399aa1ff",
            "43384832fa654feab4ead81260089506",
            "68239deea3384a92874261a75d5af715",
            "89db0596ae124941a29b1f22b27f074d",
            "b357d1bdb5984f5c8e69f2e53291e92b",
            "ac02ec652d144e10b8a3cf580b486fc2",
            "75ec579f9cc14d7eaea9a72fa298a6c8",
            "e4d33b5955c44c20b81b70221ec2502f"
          ]
        }
      },
      "execution_count": null,
      "outputs": [
        {
          "output_type": "display_data",
          "data": {
            "text/plain": [
              "HBox(children=(Image(value=b'\\x89PNG\\r\\n\\x1a\\n\\x00\\x00\\x00\\rIHDR\\x00\\x00\\x03+\\x00\\x00\\x01\\xc8\\x08\\x06\\x00\\x00\\…"
            ],
            "application/vnd.jupyter.widget-view+json": {
              "version_major": 2,
              "version_minor": 0,
              "model_id": "37df8d7835b54687b9205bdb6906b1ef"
            }
          },
          "metadata": {}
        }
      ]
    },
    {
      "cell_type": "markdown",
      "source": [
        "# 📖  Tokenization\n",
        "### 1️⃣ Sentence tokenization (문장 토큰화) or Sentence segmentation ( 문장 분류)⤵️\n",
        "\n",
        "* 코퍼스 내에서 문장 단위로 구분은 문장 구분자 (\"!\", \"?\", \".\")를 주로 사용하면 문장 예측을 할 수 있음.\n",
        "* \".\"의 예외가 되는 여러 가능성 존재 (e.g., IP 192.168.56.31, email account python@gmail.com, Ph.D, etc.)\n",
        "* 개별 언어 특수성, 특수 문자 사용, 혹은 오타 때문에 규칙을 찾아내기 어려운 점이 있음.\n",
        "* NLTK 페키지 안에서 sent_tokenize() 함수 사용\n",
        "\n",
        ">\n",
        "### 2️⃣ Small-unit tokenization ⤵️\n",
        "\n",
        "* **Corpus data (e.g., crawling) should be <font color = 'red'> preprocessed </font> before further analysis by means of <font color = 'red'> Cleaning(정제), Tokenization(토큰화), & Normalization(정규화)**.\n",
        ">\n",
        "* Simplest tokenization: 구두점 지운 후 띄어쓰기(whitespace)를 기준으로 잘라내기\n",
        ">\n",
        "* [**English Tokenization**](https://wikidocs.net/21698)\n",
        "\n",
        "  - <font color = 'red'> **Cleaning**</font>\n",
        "    * 구두점(punctuation (e.g., \".\", \",\", \"?\", \"!\", \";\", \":\")을 지우기\n",
        "    * 특수문자 지우기\n",
        "    * line 표시 등도 정제 가능\n",
        "\n",
        "  - <font color = 'red'> **Tokenization**</font>\n",
        "\n",
        "    * Tokenization: 주어진 코퍼스(corpus)에서 토큰(token)이라 불리는 단위 (e.g., word, strings with meaning)로 나누는 작업\n",
        "    * 토큰의 단위가 상황에 따라 다르지만, 보통 의미있는 단위로 토큰을 정의한다.\n",
        "    * apostrophe, hyphen 등은 Tokenize 용도로 사용하는 함수의 특성에 따라 다양한 방식으로 토큰에 포함시키기도 하고 삭제하기도 한다.    \n",
        "\n",
        "  - <font color = 'red'> **Normalization**</font>\n",
        "    * Stemming: am → 'am', having → 'hav'\n",
        "                operation, operative, operating, operational → oper\n",
        "    * Lemmatization: am → 'be', having → 'have'\n"
      ],
      "metadata": {
        "id": "gb1sh28mTSox"
      }
    },
    {
      "cell_type": "markdown",
      "source": [
        "### More about <font color = 'red'> **Normalization**\n",
        "* [Stemming and lemmatization](https://nlp.stanford.edu/IR-book/html/htmledition/stemming-and-lemmatization-1.html)\n",
        "\n",
        "The goal of both stemming and lemmatization is to reduce **inflectional** forms and sometimes **derivationally** related forms of a word to a **common base form**.\n",
        "\n",
        "organize (vt)\n",
        "\n",
        "|Inflection|base|grammatical functions|derived forms|\n",
        "|:--|--|--|--|\n",
        "|1.|orgaize(vt.)|3rd per. sg| orgaizes|\n",
        "|2.||progressive| orgaizing|\n",
        "|3.||past | orgaized|\n",
        "|4.||past participle|orgaized|\n",
        "\n",
        "[Table2] car (noun)\n",
        "\n",
        "|Inflection|base|grammatical functions|derived forms|\n",
        "|:--|--|--||\n",
        "|1.|car(noun)|plural|cars|\n",
        "|2.||possessive| car's|\n",
        "\n",
        "[Table3] big (adjective)\n",
        "\n",
        "|Inflection|base|grammatical functions|derived forms|\n",
        "|:--|--|--||\n",
        "|1.|big(adjective)|comparative|bigger|\n",
        "|2.||superlative| biggest|\n",
        "\n",
        "[Table4] combine (vt)\n",
        "\n",
        "|Derivation|base|grammatical category|derived forms|\n",
        "|:--|--|--||\n",
        "|1.|combine (verb)| verb| recombine|\n",
        "|1.|combine (verb)| noun| combination|\n",
        "|2.||adjective| combinational|\n",
        "\n",
        "[Table 5] be (vi)\n",
        "\n",
        "|copular be verb|base|subject-verb agreement|forms|\n",
        "|:--|--|--||\n",
        "|1.|be (verb)| 1st. sg. prsnt/past| am/was|\n",
        "|2.|| 2nd/3rd sg. & pl, prsnt/past|are/were|\n",
        "|3.||3rd. sg. prsnt/past| is/was|\n",
        "<p> </p>\n",
        "\n",
        "### Mapping of text\n",
        "\n",
        ">* The boy's cars are different colors $\\Rightarrow$\n",
        "the boy car be differ color\n",
        "\n",
        "\n",
        "- **Stemming** usually refers to a crude heuristic process that chops off the ends of words in the hope of achieving this goal correctly most of the time, and often includes the **<em>removal of derivational affixes</em>**.\n",
        "\n",
        "- **Lemmatization** usually refers to doing things properly with the use of a vocabulary and morphological analysis of words, normally aiming to **remove inflectional endings** only and to return the **base or dictionary form** of a word, which is known as the lemma.\n",
        "\n",
        "If confronted with the token 'saw', stemming might return just 's', whereas lemmatization would attempt to return either 'see'(verb) or 'saw'(noun) depending on whether the use of the token was as a verb or a noun. Linguistic processing for stemming or lemmatization is often done by an additional plug-in component to the indexing process, and a number of such components exist, both commercial and open-source. The most common algorithm for **stemming English**, and one that has repeatedly been shown to be empirically very effective, is **Porter's algorithm (Porter, 1980)**.\n",
        "\n",
        "You can use a **lemmatizer**, a tool from Natural Language Processing which does full morphological analysis to <em>accurately identify the lemma for each word</em>. <font color = 'blue'> Doing full morphological analysis produces at most very modest benefits for retrieval</font>. It is hard to say more, because either form of normalization tends not to improve English information retrieval performance in aggregate - at least not by very much. While it helps a lot for some queries, it equally hurts performance a lot for others. <font color = 'red'> Stemming increases recall while harming precision.</font>\n",
        "\n",
        ">The **Porter stemmer** stems all of the following words:\n",
        ">\n",
        ">>operate', 'operating, ' operates', ' operation', ' operative', ' operatives', ' operational'\n",
        "$\\Rightarrow$ 'oper'.\n",
        ">\n",
        "> Defect $\\Rightarrow$ We lose considerable precision on queries such as the following with Porter stemming:\n",
        ">> \"operational and research\", \"operating and system\", \"operative and dentistry\"\n",
        "\n",
        "For a case like this, moving to using a lemmatizer would not completely fix the problem because **particular inflectional forms are used in particular <font color = 'blue'>collocations</font>**: a sentence with the words operate and system is not a good match for the query operating and system. Getting better value from term normalization depends more on pragmatic issues of word use than on formal issues of linguistic morphology."
      ],
      "metadata": {
        "id": "x5DSfSgdLqhy"
      }
    },
    {
      "cell_type": "markdown",
      "source": [
        "# 📖  Tokenization\n",
        "\n",
        "### 💡 **For your information**\n",
        "\n",
        "The **'punkt'** resource is a tokenizer that is commonly used for **splitting text into individual sentences or words**. Once the 'punkt' resource is downloaded, you can proceed to use NLTK's tokenization capabilities in your code. Specifically, you can access and use the tokenizer provided by NLTK. This resource is necessary for certain NLTK functionalities, such as tokenization using the **nltk.tokenize module**."
      ],
      "metadata": {
        "id": "PHOoPaU2OkGw"
      }
    },
    {
      "cell_type": "markdown",
      "source": [
        "### 🆘 What is PunktSentenceTokenizer?\n",
        "* [For more information read the original article](https://www.askpython.com/python-modules/nltk-punkt)\n",
        "\n",
        "In NLTK, PUNKT is an <font color = 'brown'> **unsupervised trainable model**</font>, which means it can be **trained on unlabeled data** (Data that has not been tagged with information identifying its characteristics, properties, or categories is referred to as unlabeled data.)\n",
        "\n",
        "It generates a list of sentences from a text by developing a model for **words that start sentences, prepositional phrases, and abbreviations** using an unsupervised technique. Without first being put to use, it has to be trained on a sizable amount of plaintext in the intended language.\n",
        "\n",
        "🚯 Caution should be taken\n",
        "* nltk.sent_tokenize를 사용할 경우, punkt 모델을 활용하여 sentence segmentation/tokenization을 진행하게 된다. <font color = 'blue'> punkt 문장 구조를 학습한 일종의 모델로, 어떤 것이 약어에 쓰이는 \".\"이고(Ex : Ph.D.), 어떤 것이 마침표인지 학습이 되어있다.</font> <font color = 'brown'> 문장을 기본적으로 마침표를 기준으로 나누되, Ph.D., Saint., Professor., 와 같은 약어(Abbreviation)는 Known abbreviation으로 학습하여 한 단어로 취급하는 방식이다.</font> 하지만 punkt model이 모든 약어를 학습하지 못했다보니, Vol. 13, Apr. 13 과 같은 표현 및 U.S. Pat. No. 134 과 같은 복잡한 약어는 Known abbreviation이 아니여서 모두 나눠져버린다."
      ],
      "metadata": {
        "id": "ERqTcAMoywIU"
      }
    },
    {
      "cell_type": "code",
      "execution_count": null,
      "metadata": {
        "id": "qWcgp3AzSyi4",
        "outputId": "275b0245-74a1-4e5a-d816-1cd357a2b175",
        "colab": {
          "base_uri": "https://localhost:8080/"
        }
      },
      "outputs": [
        {
          "output_type": "stream",
          "name": "stdout",
          "text": [
            "Looking in indexes: https://pypi.org/simple, https://us-python.pkg.dev/colab-wheels/public/simple/\n",
            "Requirement already satisfied: nltk in /usr/local/lib/python3.10/dist-packages (3.8.1)\n",
            "Requirement already satisfied: click in /usr/local/lib/python3.10/dist-packages (from nltk) (8.1.3)\n",
            "Requirement already satisfied: joblib in /usr/local/lib/python3.10/dist-packages (from nltk) (1.2.0)\n",
            "Requirement already satisfied: regex>=2021.8.3 in /usr/local/lib/python3.10/dist-packages (from nltk) (2022.10.31)\n",
            "Requirement already satisfied: tqdm in /usr/local/lib/python3.10/dist-packages (from nltk) (4.65.0)\n"
          ]
        },
        {
          "output_type": "stream",
          "name": "stderr",
          "text": [
            "[nltk_data] Downloading package punkt to /root/nltk_data...\n",
            "[nltk_data]   Unzipping tokenizers/punkt.zip.\n"
          ]
        },
        {
          "output_type": "execute_result",
          "data": {
            "text/plain": [
              "True"
            ]
          },
          "metadata": {},
          "execution_count": 3
        }
      ],
      "source": [
        "#@markdown #### 🐹 **Student's Activity 0** ⤵️\n",
        "#@markdown 👀🐾 **Install <font color = 'red'> NLTK</font> package and download  <font color = 'red'> punkt </font> package.**\n",
        "!pip install nltk\n",
        "import nltk\n",
        "nltk.download('punkt')"
      ]
    },
    {
      "cell_type": "code",
      "source": [
        "#@markdown #### 🐹 **Student's Activity 1** ⤵️\n",
        "#@markdown 👀🐾 **Call <font color = 'red'> sent_tokenize() </font> function**\n",
        "\n",
        "#@markdown 🔎 **Exercise for Various Periods**\n",
        "\n",
        "message = \"I'm actively looking for Ph.D. students, \\\n",
        "and you are a Ph.D student. \\\n",
        "Visit IP 192.168.56.31 \\\n",
        "and send the results to my email account. \\\n",
        "It's python@gmail.com.\"\n",
        "\n",
        "from nltk.tokenize import sent_tokenize\n",
        "sentence = sent_tokenize(message)\n",
        "print('문장 토큰화: %s' %sentence)"
      ],
      "metadata": {
        "id": "kv8s_PN-OlG_",
        "outputId": "691299cf-2858-4277-ea59-27f2b64e8718",
        "colab": {
          "base_uri": "https://localhost:8080/"
        }
      },
      "execution_count": null,
      "outputs": [
        {
          "output_type": "stream",
          "name": "stdout",
          "text": [
            "문장 토큰화: [\"I'm actively looking for Ph.D. students, and you are a Ph.D student.\", 'Visit IP 192.168.56.31 and send the results to my email account.', \"It's python@gmail.com.\"]\n"
          ]
        }
      ]
    },
    {
      "cell_type": "code",
      "source": [
        "#@markdown #### 🐹 **Student's Activity 2** ⤵️\n",
        "#@markdown 🔎 **Additional exercise for sentence tokenization**\n",
        "\n",
        "text = 'Here’s to the crazy ones, the misfits, the rebels, the troublemakers, the round pegs in the square holes. \\\n",
        "The ones who see things differently — they’re not fond of rules. \\\n",
        "I wanted to pay with a twenty-dolloar bill; however, she couldn’t get cash. \\\n",
        "I like Brown’s East back pack,\\\n",
        "I’ve got a big trouble, but other people were having lots of fun. \\\n",
        "Anna likes Brown’s East back pack,\\\n",
        "but her brother doesn’t.'\n",
        "\n",
        "from nltk.tokenize import sent_tokenize\n",
        "sentence = sent_tokenize(text)\n",
        "print('문장 토큰화: %s' %sentence)"
      ],
      "metadata": {
        "id": "4odDoSnPS18k",
        "outputId": "396ab724-cd82-4e94-e561-56dcb62a92de",
        "colab": {
          "base_uri": "https://localhost:8080/"
        }
      },
      "execution_count": null,
      "outputs": [
        {
          "output_type": "stream",
          "name": "stdout",
          "text": [
            "문장 토큰화: ['Here’s to the crazy ones, the misfits, the rebels, the troublemakers, the round pegs in the square holes.', 'The ones who see things differently — they’re not fond of rules.', 'I wanted to pay with a twenty-dolloar bill; however, she couldn’t get cash.', 'I like Brown’s East back pack,I’ve got a big trouble, but other people were having lots of fun.', 'Anna likes Brown’s East back pack,but her brother doesn’t.']\n"
          ]
        }
      ]
    },
    {
      "cell_type": "markdown",
      "source": [
        "##⏰ <font color = 'purple'> **Prerequisite Step!**\n",
        "\n",
        "1. Students download txt file from [data_misc repository](https://github.com/ms624atyale/Data_Misc/blob/main/text_symbol_sample.txt)\n",
        "2. Students create a folder under [sample_data].\n",
        "3. Students upload downloaded file entitled \"text_symbol_sample\"."
      ],
      "metadata": {
        "id": "Svzwv5b5t5eO"
      }
    },
    {
      "cell_type": "code",
      "source": [
        "#@markdown #### 🐹 **Student's Activity 0** ⤵️\n",
        "#@markdown 👀🐾 **Install <font color = 'red'> NLTK</font> package and download  <font color = 'red'> punkt </font> package.**\n",
        "!pip install nltk\n",
        "import nltk\n",
        "nltk.download('punkt')"
      ],
      "metadata": {
        "id": "afJEPVK-0zZl",
        "outputId": "13e003b0-5bfe-40c5-a944-1c36b9a3b1d4",
        "colab": {
          "base_uri": "https://localhost:8080/"
        }
      },
      "execution_count": null,
      "outputs": [
        {
          "output_type": "stream",
          "name": "stdout",
          "text": [
            "Looking in indexes: https://pypi.org/simple, https://us-python.pkg.dev/colab-wheels/public/simple/\n",
            "Requirement already satisfied: nltk in /usr/local/lib/python3.10/dist-packages (3.8.1)\n",
            "Requirement already satisfied: click in /usr/local/lib/python3.10/dist-packages (from nltk) (8.1.3)\n",
            "Requirement already satisfied: joblib in /usr/local/lib/python3.10/dist-packages (from nltk) (1.2.0)\n",
            "Requirement already satisfied: regex>=2021.8.3 in /usr/local/lib/python3.10/dist-packages (from nltk) (2022.10.31)\n",
            "Requirement already satisfied: tqdm in /usr/local/lib/python3.10/dist-packages (from nltk) (4.65.0)\n"
          ]
        },
        {
          "output_type": "stream",
          "name": "stderr",
          "text": [
            "[nltk_data] Downloading package punkt to /root/nltk_data...\n",
            "[nltk_data]   Package punkt is already up-to-date!\n"
          ]
        },
        {
          "output_type": "execute_result",
          "data": {
            "text/plain": [
              "True"
            ]
          },
          "metadata": {},
          "execution_count": 49
        }
      ]
    },
    {
      "cell_type": "markdown",
      "source": [
        "### **Tokenization**\n",
        "#### 🐹 1. Simplest way to tokenize a text into small units"
      ],
      "metadata": {
        "id": "sTnGhW7YrT_3"
      }
    },
    {
      "cell_type": "code",
      "source": [
        "#@markdown 🐹 **Student's Activity 1** ⤵️\n",
        "\n",
        "#@markdown 👀🐾 **text Read files using open( ) function.**\n",
        "text = open('/content/sample_data/text_symbol_sample.txt','rt')"
      ],
      "metadata": {
        "id": "S5pahMiG_JLH"
      },
      "execution_count": null,
      "outputs": []
    },
    {
      "cell_type": "code",
      "source": [
        "#@markdown 👀🐾 **temp variable assigned text being read**\n",
        "\n",
        "temp = text.read()\n",
        "print(temp)"
      ],
      "metadata": {
        "id": "IzJ3YrUeGlgk",
        "outputId": "b4c89790-8ff2-486f-c019-84c0c7096a4f",
        "colab": {
          "base_uri": "https://localhost:8080/"
        }
      },
      "execution_count": null,
      "outputs": [
        {
          "output_type": "stream",
          "name": "stdout",
          "text": [
            "Here’s to the crazy ones, the misfits, the rebels, the troublemakers, the round pegs in the square holes.\n",
            "The ones who see things differently — they’re not fond of rules. \n",
            "I wanted to pay with a twenti-dolloar bill; \n",
            "however, she couldn’t get cash. \n",
            "I’ve got a big trouble, but other people were having lots of fun. \n",
            "Anna likes Brown’s East back pack,\n",
            "but her brother doesn’t.\n"
          ]
        }
      ]
    },
    {
      "cell_type": "code",
      "source": [
        "#@markdown 👀🐾 **obj variable assigned text being cleaned (e.g., line substitution)**\n",
        "\n",
        "obj = temp.replace(\"\\n\", \" \")"
      ],
      "metadata": {
        "id": "esJeC6pXGz1z"
      },
      "execution_count": null,
      "outputs": []
    },
    {
      "cell_type": "code",
      "source": [
        "print(obj)"
      ],
      "metadata": {
        "id": "hhePaTpMG9YH",
        "outputId": "b34c7d09-2439-491b-bb6f-86e25a5d190d",
        "colab": {
          "base_uri": "https://localhost:8080/"
        }
      },
      "execution_count": null,
      "outputs": [
        {
          "output_type": "stream",
          "name": "stdout",
          "text": [
            "Here’s to the crazy ones, the misfits, the rebels, the troublemakers, the round pegs in the square holes. The ones who see things differently — they’re not fond of rules.  I wanted to pay with a twenti-dolloar bill;  however, she couldn’t get cash.  I’ve got a big trouble, but other people were having lots of fun.  Anna likes Brown’s East back pack, but her brother doesn’t.\n"
          ]
        }
      ]
    },
    {
      "cell_type": "code",
      "source": [
        "#@markdown <font color = 'red'> 👀🐾 **Simplest tokenization: a text into units: every small unit that is separated by space **\n",
        "obj.split()"
      ],
      "metadata": {
        "id": "iEXjpSBPDk0u",
        "outputId": "855e009a-05c1-4a65-a4b0-692b79caa4fe",
        "colab": {
          "base_uri": "https://localhost:8080/"
        }
      },
      "execution_count": null,
      "outputs": [
        {
          "output_type": "execute_result",
          "data": {
            "text/plain": [
              "['Here’s',\n",
              " 'to',\n",
              " 'the',\n",
              " 'crazy',\n",
              " 'ones,',\n",
              " 'the',\n",
              " 'misfits,',\n",
              " 'the',\n",
              " 'rebels,',\n",
              " 'the',\n",
              " 'troublemakers,',\n",
              " 'the',\n",
              " 'round',\n",
              " 'pegs',\n",
              " 'in',\n",
              " 'the',\n",
              " 'square',\n",
              " 'holes.',\n",
              " 'The',\n",
              " 'ones',\n",
              " 'who',\n",
              " 'see',\n",
              " 'things',\n",
              " 'differently',\n",
              " '—',\n",
              " 'they’re',\n",
              " 'not',\n",
              " 'fond',\n",
              " 'of',\n",
              " 'rules.',\n",
              " 'I',\n",
              " 'wanted',\n",
              " 'to',\n",
              " 'pay',\n",
              " 'with',\n",
              " 'a',\n",
              " 'twenti-dolloar',\n",
              " 'bill;',\n",
              " 'however,',\n",
              " 'she',\n",
              " 'couldn’t',\n",
              " 'get',\n",
              " 'cash.',\n",
              " 'I’ve',\n",
              " 'got',\n",
              " 'a',\n",
              " 'big',\n",
              " 'trouble,',\n",
              " 'but',\n",
              " 'other',\n",
              " 'people',\n",
              " 'were',\n",
              " 'having',\n",
              " 'lots',\n",
              " 'of',\n",
              " 'fun.',\n",
              " 'Anna',\n",
              " 'likes',\n",
              " 'Brown’s',\n",
              " 'East',\n",
              " 'back',\n",
              " 'pack,',\n",
              " 'but',\n",
              " 'her',\n",
              " 'brother',\n",
              " 'doesn’t.']"
            ]
          },
          "metadata": {},
          "execution_count": 11
        }
      ]
    },
    {
      "cell_type": "code",
      "source": [
        "#@markdown 🐹 **Student's Activity 1-1** ⤵️\n",
        "\n",
        "#@markdown 👀🐾 **Codeline variation**\n",
        "text = open('/content/sample_data/text_symbol_sample.txt','rt')\n",
        "obj = text.read().replace(\"\\n\", \" \")\n",
        "obj.split()"
      ],
      "metadata": {
        "id": "eij_Fbj3LDtM",
        "outputId": "e93c0ee9-6946-4778-8f3b-6c2fcac1df84",
        "colab": {
          "base_uri": "https://localhost:8080/"
        }
      },
      "execution_count": null,
      "outputs": [
        {
          "output_type": "execute_result",
          "data": {
            "text/plain": [
              "['Here’s',\n",
              " 'to',\n",
              " 'the',\n",
              " 'crazy',\n",
              " 'ones,',\n",
              " 'the',\n",
              " 'misfits,',\n",
              " 'the',\n",
              " 'rebels,',\n",
              " 'the',\n",
              " 'troublemakers,',\n",
              " 'the',\n",
              " 'round',\n",
              " 'pegs',\n",
              " 'in',\n",
              " 'the',\n",
              " 'square',\n",
              " 'holes.',\n",
              " 'The',\n",
              " 'ones',\n",
              " 'who',\n",
              " 'see',\n",
              " 'things',\n",
              " 'differently',\n",
              " '—',\n",
              " 'they’re',\n",
              " 'not',\n",
              " 'fond',\n",
              " 'of',\n",
              " 'rules.',\n",
              " 'I',\n",
              " 'wanted',\n",
              " 'to',\n",
              " 'pay',\n",
              " 'with',\n",
              " 'a',\n",
              " 'twenti-dolloar',\n",
              " 'bill;',\n",
              " 'however,',\n",
              " 'she',\n",
              " 'couldn’t',\n",
              " 'get',\n",
              " 'cash.',\n",
              " 'I’ve',\n",
              " 'got',\n",
              " 'a',\n",
              " 'big',\n",
              " 'trouble,',\n",
              " 'but',\n",
              " 'other',\n",
              " 'people',\n",
              " 'were',\n",
              " 'having',\n",
              " 'lots',\n",
              " 'of',\n",
              " 'fun.',\n",
              " 'Anna',\n",
              " 'likes',\n",
              " 'Brown’s',\n",
              " 'East',\n",
              " 'back',\n",
              " 'pack,',\n",
              " 'but',\n",
              " 'her',\n",
              " 'brother',\n",
              " 'doesn’t.']"
            ]
          },
          "metadata": {},
          "execution_count": 12
        }
      ]
    },
    {
      "cell_type": "markdown",
      "source": [
        "### 🐹 **2. nltktokenize.**word_tokenize( )\n",
        "\n",
        ">\n",
        "\n",
        "| Function.     | Type | symbols |result |example|\n",
        "|:--------------|:-----|:--------|:-----------|--|\n",
        "|word.tokenize()|punctuation|\".\", \",\", \"?\", \"!\", \";\", \":\"|tokenize| '.' |\n",
        "|               |apostrophe        |\"'\" |tokenize| ''' |\n",
        "|               |word-linking hyphen|\"-\" |part of a token|'ten-dollar', 'bill' |\n",
        "|               |phrase-linking hyphen|\"--\" |tokenize|'--' |\n",
        "|               |Capital vs. small|The ones |tokenize|'The', 'ones' |"
      ],
      "metadata": {
        "id": "A03RIU6gnLZU"
      }
    },
    {
      "cell_type": "code",
      "source": [
        "#@markdown ###🐹 **Students' Activity 2** ⤵️\n",
        "\n",
        "#@markdown <font color = 'red'> 👀🐾 **nltktokenize.**word_tokenize( )\n",
        "\n",
        "!pip install nltk\n",
        "from nltk.tokenize import word_tokenize\n",
        "import nltk\n",
        "nltk.download('punkt')\n",
        "\n",
        "print('Tokenizing Word and Punctuation:',word_tokenize(obj))"
      ],
      "metadata": {
        "id": "g9Pfw0_Thhka",
        "outputId": "be14a6f4-ef89-4806-a6b2-04b54d0a8627",
        "colab": {
          "base_uri": "https://localhost:8080/"
        }
      },
      "execution_count": null,
      "outputs": [
        {
          "output_type": "stream",
          "name": "stdout",
          "text": [
            "Requirement already satisfied: nltk in /usr/local/lib/python3.10/dist-packages (3.8.1)\n",
            "Requirement already satisfied: click in /usr/local/lib/python3.10/dist-packages (from nltk) (8.1.7)\n",
            "Requirement already satisfied: joblib in /usr/local/lib/python3.10/dist-packages (from nltk) (1.3.2)\n",
            "Requirement already satisfied: regex>=2021.8.3 in /usr/local/lib/python3.10/dist-packages (from nltk) (2023.6.3)\n",
            "Requirement already satisfied: tqdm in /usr/local/lib/python3.10/dist-packages (from nltk) (4.66.1)\n",
            "Tokenizing Word and Punctuation: ['Here', '’', 's', 'to', 'the', 'crazy', 'ones', ',', 'the', 'misfits', ',', 'the', 'rebels', ',', 'the', 'troublemakers', ',', 'the', 'round', 'pegs', 'in', 'the', 'square', 'holes', '.', 'The', 'ones', 'who', 'see', 'things', 'differently', '—', 'they', '’', 're', 'not', 'fond', 'of', 'rules', '.', 'I', 'wanted', 'to', 'pay', 'with', 'a', 'twenti-dolloar', 'bill', ';', 'however', ',', 'she', 'couldn', '’', 't', 'get', 'cash', '.', 'I', '’', 've', 'got', 'a', 'big', 'trouble', ',', 'but', 'other', 'people', 'were', 'having', 'lots', 'of', 'fun', '.', 'Anna', 'likes', 'Brown', '’', 's', 'East', 'back', 'pack', ',', 'but', 'her', 'brother', 'doesn', '’', 't', '.']\n"
          ]
        },
        {
          "output_type": "stream",
          "name": "stderr",
          "text": [
            "[nltk_data] Downloading package punkt to /root/nltk_data...\n",
            "[nltk_data]   Package punkt is already up-to-date!\n"
          ]
        }
      ]
    },
    {
      "cell_type": "markdown",
      "source": [
        "###🐹 2-1. Advanced for a print codeline"
      ],
      "metadata": {
        "id": "coMJ6zIoxLcF"
      }
    },
    {
      "cell_type": "code",
      "source": [
        "#@markdown ###🐹 **Students' Activity 2-1** ⤵️\n",
        "\n",
        "#@markdown <font color = 'red'> **🍎 Advanced for a print codeline**\n",
        "from nltk.tokenize import word_tokenize\n",
        "import nltk\n",
        "nltk.download('punkt')\n",
        "result2 = word_tokenize(obj)\n",
        "\n",
        "print('Tokenizing Word and Punctuation: %s' %result2)\n"
      ],
      "metadata": {
        "id": "Q1NIz986mFTA",
        "outputId": "d016dcde-a071-408e-a145-af59c48333e4",
        "colab": {
          "base_uri": "https://localhost:8080/"
        }
      },
      "execution_count": null,
      "outputs": [
        {
          "output_type": "stream",
          "name": "stdout",
          "text": [
            "Tokenizing Word and Punctuation: ['Here', '’', 's', 'to', 'the', 'crazy', 'ones', ',', 'the', 'misfits', ',', 'the', 'rebels', ',', 'the', 'troublemakers', ',', 'the', 'round', 'pegs', 'in', 'the', 'square', 'holes', '.', 'The', 'ones', 'who', 'see', 'things', 'differently', '—', 'they', '’', 're', 'not', 'fond', 'of', 'rules', '.', 'I', 'wanted', 'to', 'pay', 'with', 'a', 'twenti-dolloar', 'bill', ';', 'however', ',', 'she', 'couldn', '’', 't', 'get', 'cash', '.', 'I', '’', 've', 'got', 'a', 'big', 'trouble', ',', 'but', 'other', 'people', 'were', 'having', 'lots', 'of', 'fun', '.', 'Anna', 'likes', 'Brown', '’', 's', 'East', 'back', 'pack', ',', 'but', 'her', 'brother', 'doesn', '’', 't', '.']\n"
          ]
        },
        {
          "output_type": "stream",
          "name": "stderr",
          "text": [
            "[nltk_data] Downloading package punkt to /root/nltk_data...\n",
            "[nltk_data]   Package punkt is already up-to-date!\n"
          ]
        }
      ]
    },
    {
      "cell_type": "markdown",
      "source": [
        "### 🐹 3. nltk.tokenize.**WordPunctTokenizer()**\n",
        "\n",
        "| Function     | Type | symbols or words |result |example|\n",
        "|:--------------|:-----|:--------|:-----------|--|\n",
        "|WordPunctTokenizer()|punctuation|\".\", \",\", \"?\", \"!\", \";\", \":\"|tokenize| '.' |\n",
        "|               |apostrophe        |\"'\" |tokenize| ''' |\n",
        "|               |word-linking hyphen|\"-\" |tokenize|'-' |\n",
        "|               |phrase-linking hyphen|\"--\" |tokenize|'--' |\n",
        "|               |Capital vs. small|The ones |tokenize|'The', 'ones' |\n",
        "\n",
        "  * <font color = 'indigo'> <font size = '2.2'> Wrong command: >>WordPunctTokenizer(txt) or WordPunctTokenizer.tokenize(txt): Error message: WordPunctTokenizer.__init__() takes 1 positional argument but 2 were given."
      ],
      "metadata": {
        "id": "lOu9-q_Cn01a"
      }
    },
    {
      "cell_type": "code",
      "source": [
        "#@markdown ###🐹 **Students' Activity 3** ⤵️\n",
        "\n",
        "#@markdown <font color = 'red'> 👀🐾 **nltk.tokenize.**WordPunctTokenizer()\n",
        "\n",
        "from nltk.tokenize import WordPunctTokenizer\n",
        "\n",
        "print('Tokenizing Words and Punctuations:', WordPunctTokenizer().tokenize(obj))"
      ],
      "metadata": {
        "id": "hYAWzvgbhiwd",
        "outputId": "65a982d6-c5a1-43ba-c796-606f9bc61be0",
        "colab": {
          "base_uri": "https://localhost:8080/"
        }
      },
      "execution_count": null,
      "outputs": [
        {
          "output_type": "stream",
          "name": "stdout",
          "text": [
            "Tokenizing Words and Punctuations: ['Here', '’', 's', 'to', 'the', 'crazy', 'ones', ',', 'the', 'misfits', ',', 'the', 'rebels', ',', 'the', 'troublemakers', ',', 'the', 'round', 'pegs', 'in', 'the', 'square', 'holes', '.', 'The', 'ones', 'who', 'see', 'things', 'differently', '—', 'they', '’', 're', 'not', 'fond', 'of', 'rules', '.', 'I', 'wanted', 'to', 'pay', 'with', 'a', 'twenti', '-', 'dolloar', 'bill', ';', 'however', ',', 'she', 'couldn', '’', 't', 'get', 'cash', '.', 'I', '’', 've', 'got', 'a', 'big', 'trouble', ',', 'but', 'other', 'people', 'were', 'having', 'lots', 'of', 'fun', '.', 'Anna', 'likes', 'Brown', '’', 's', 'East', 'back', 'pack', ',', 'but', 'her', 'brother', 'doesn', '’', 't', '.']\n"
          ]
        }
      ]
    },
    {
      "cell_type": "code",
      "source": [
        "#@markdown ###🐹 **Students' Activity 3-1** ⤵️\n",
        "\n",
        "#@markdown <font color = 'red'> 🍎 Advanced for a print codeline\n",
        "\n",
        "from nltk.tokenize import WordPunctTokenizer\n",
        "result3 = WordPunctTokenizer().tokenize(obj)\n",
        "\n",
        "print('Tokenizing Words and Punctuations: %s' %result3)"
      ],
      "metadata": {
        "id": "Kfxxv5cImhFa",
        "outputId": "5d220868-6809-4a23-b2e8-62da1fb8933f",
        "colab": {
          "base_uri": "https://localhost:8080/"
        }
      },
      "execution_count": null,
      "outputs": [
        {
          "output_type": "stream",
          "name": "stdout",
          "text": [
            "Tokenizing Words and Punctuations: ['Here', '’', 's', 'to', 'the', 'crazy', 'ones', ',', 'the', 'misfits', ',', 'the', 'rebels', ',', 'the', 'troublemakers', ',', 'the', 'round', 'pegs', 'in', 'the', 'square', 'holes', '.', 'The', 'ones', 'who', 'see', 'things', 'differently', '—', 'they', '’', 're', 'not', 'fond', 'of', 'rules', '.', 'I', 'wanted', 'to', 'pay', 'with', 'a', 'twenti', '-', 'dolloar', 'bill', ';', 'however', ',', 'she', 'couldn', '’', 't', 'get', 'cash', '.', 'I', '’', 've', 'got', 'a', 'big', 'trouble', ',', 'but', 'other', 'people', 'were', 'having', 'lots', 'of', 'fun', '.', 'Anna', 'likes', 'Brown', '’', 's', 'East', 'back', 'pack', ',', 'but', 'her', 'brother', 'doesn', '’', 't', '.']\n"
          ]
        }
      ]
    },
    {
      "cell_type": "markdown",
      "source": [
        "### 🐹 4. tensorflow.keras.preprocessing.text.**text_to_word_sequence()**\n",
        "\n",
        "| Function.     | Type | symbols or words |result |example|\n",
        "|:--------------|:-----|:--------|:-----------|--|\n",
        "|text_to_word_sequence()|punctuation|\".\", \",\", \"?\", \"!\", \";\", \":\"|deleted|  |\n",
        "|               |apostrophe        |\"'\" |part of a token| 'Here's' |\n",
        "|               |word-linking hyphen|\"-\" |deleted| |\n",
        "|               |phrase-linking hyphen|\"--\" |tokenize|'--' |\n",
        "|               |Capital ➡️  small|The ones |tokenize|'the', 'ones' |\n",
        "\n",
        "\n",
        "* <font color = 'sky blue'> Small letters across the board\n",
        "* An apostrophe (\"'\" for Perfect tense (e.g., \"I've\"), possessive (e.g., \"John's\"), negation (e.g., 'doesn't)) is part of a token.\n",
        "* A phrase-linking hyphen (-) are tokenized.\n",
        "* **All punctuations and a word-linking phyphen are deleted**.\n"
      ],
      "metadata": {
        "id": "boMBjWuFptSs"
      }
    },
    {
      "cell_type": "code",
      "source": [
        "#@markdown ###🐹 **Students' Activity 4** ⤵️\n",
        "\n",
        "#@markdown <font color = 'red'> 👀🐾 **tensorflow.keras.preprocessing.text.text_to_word_sequence()**\n",
        "\n",
        "from tensorflow.keras.preprocessing.text import text_to_word_sequence\n",
        "\n",
        "print('Tokenizing Words after Cleaning Punctuations:', text_to_word_sequence(obj))\n"
      ],
      "metadata": {
        "id": "aowUE2sTrAi6",
        "outputId": "e9543776-e4ac-4b5a-eef1-ce3565316ff2",
        "colab": {
          "base_uri": "https://localhost:8080/"
        }
      },
      "execution_count": null,
      "outputs": [
        {
          "output_type": "stream",
          "name": "stdout",
          "text": [
            "Tokenizing Words after Cleaning Punctuations: ['here’s', 'to', 'the', 'crazy', 'ones', 'the', 'misfits', 'the', 'rebels', 'the', 'troublemakers', 'the', 'round', 'pegs', 'in', 'the', 'square', 'holes', 'the', 'ones', 'who', 'see', 'things', 'differently', '—', 'they’re', 'not', 'fond', 'of', 'rules', 'i', 'wanted', 'to', 'pay', 'with', 'a', 'twenti', 'dolloar', 'bill', 'however', 'she', 'couldn’t', 'get', 'cash', 'i’ve', 'got', 'a', 'big', 'trouble', 'but', 'other', 'people', 'were', 'having', 'lots', 'of', 'fun', 'anna', 'likes', 'brown’s', 'east', 'back', 'pack', 'but', 'her', 'brother', 'doesn’t']\n"
          ]
        }
      ]
    },
    {
      "cell_type": "code",
      "source": [
        "#@markdown ###🐹 **Students' Activity 4-1** ⤵️\n",
        "\n",
        "#@markdown <font color = 'red'> **🍎 Advanced for a print codeline**\n",
        "\n",
        "from tensorflow.keras.preprocessing.text import text_to_word_sequence\n",
        "result4 = text_to_word_sequence(obj)\n",
        "\n",
        "print('Tokenizing Words after Cleaning Punctuations: %s' %result4)\n",
        "\n"
      ],
      "metadata": {
        "id": "6KvxuBHrhler",
        "outputId": "ba3f37b2-da8f-44d5-a142-aa04b1b7406c",
        "colab": {
          "base_uri": "https://localhost:8080/"
        }
      },
      "execution_count": null,
      "outputs": [
        {
          "output_type": "stream",
          "name": "stdout",
          "text": [
            "Tokenizing Words after Cleaning Punctuations: ['here’s', 'to', 'the', 'crazy', 'ones', 'the', 'misfits', 'the', 'rebels', 'the', 'troublemakers', 'the', 'round', 'pegs', 'in', 'the', 'square', 'holes', 'the', 'ones', 'who', 'see', 'things', 'differently', '—', 'they’re', 'not', 'fond', 'of', 'rules', 'i', 'wanted', 'to', 'pay', 'with', 'a', 'twenti', 'dolloar', 'bill', 'however', 'she', 'couldn’t', 'get', 'cash', 'i’ve', 'got', 'a', 'big', 'trouble', 'but', 'other', 'people', 'were', 'having', 'lots', 'of', 'fun', 'anna', 'likes', 'brown’s', 'east', 'back', 'pack', 'but', 'her', 'brother', 'doesn’t']\n"
          ]
        }
      ]
    },
    {
      "cell_type": "markdown",
      "source": [
        "### **Tokenization & Normalization**"
      ],
      "metadata": {
        "id": "A2jYF-TIsYXm"
      }
    },
    {
      "cell_type": "markdown",
      "source": [
        "### 🐹 5. **PorterStemmer()** for Stemming\n",
        "\n",
        "| Function.     | Type | symbols or words |result |example|\n",
        "|:--------------|:-----|:--------|:-----------|--|\n",
        "|PorterStemmer()|punctuation|\".\", \",\", \"?\", \"!\", \";\", \":\"|tokenize|'.', etc. |\n",
        "|               |apostrophe        |\"'\" |tokenize| ''' |\n",
        "|               |word-linking hyphen|\"-\" |part of a token| 'twenti-dollar' |\n",
        "|               |phrase-linking hyphen|\"--\" |tokenize|'--'|\n",
        "||Capital ➡️  small|The ones |tokenize|'the', 'ones' |\n",
        "|              ||they're, were having||'they', ''' 're', 'were', 'hav'|"
      ],
      "metadata": {
        "id": "9O-CbxvV-DG_"
      }
    },
    {
      "cell_type": "code",
      "source": [
        "#@markdown ###🐹 **Students' Activity 5** ⤵️\n",
        "\n",
        "#@markdown <font color = 'red'> 👀🐾 **PorterStemmer() for Stemming**\n",
        "\n",
        "from nltk.stem import PorterStemmer\n",
        "from nltk.tokenize import word_tokenize\n",
        "\n",
        "stemmer = PorterStemmer()\n",
        "tokenized_sentence = word_tokenize(obj)\n",
        "\n",
        "[stemmer.stem(w) for w in tokenized_sentence] # words 로 list comprehension. 이 워즈에서 하나하나씩 루프를 도는데, 단어를 w 에 담아서, 앞에 stemmer.stem () 함수가 실행된다. 어떤 함수는 어떤 장/단점이 있구나. result4 -> result3 수정 (as of 07JUNE23)"
      ],
      "metadata": {
        "id": "BjKZYeOH5kMi",
        "outputId": "a88f76b8-46de-433c-c309-8ec014c61d21",
        "colab": {
          "base_uri": "https://localhost:8080/"
        }
      },
      "execution_count": null,
      "outputs": [
        {
          "output_type": "execute_result",
          "data": {
            "text/plain": [
              "['here',\n",
              " '’',\n",
              " 's',\n",
              " 'to',\n",
              " 'the',\n",
              " 'crazi',\n",
              " 'one',\n",
              " ',',\n",
              " 'the',\n",
              " 'misfit',\n",
              " ',',\n",
              " 'the',\n",
              " 'rebel',\n",
              " ',',\n",
              " 'the',\n",
              " 'troublemak',\n",
              " ',',\n",
              " 'the',\n",
              " 'round',\n",
              " 'peg',\n",
              " 'in',\n",
              " 'the',\n",
              " 'squar',\n",
              " 'hole',\n",
              " '.',\n",
              " 'the',\n",
              " 'one',\n",
              " 'who',\n",
              " 'see',\n",
              " 'thing',\n",
              " 'differ',\n",
              " '—',\n",
              " 'they',\n",
              " '’',\n",
              " 're',\n",
              " 'not',\n",
              " 'fond',\n",
              " 'of',\n",
              " 'rule',\n",
              " '.',\n",
              " 'i',\n",
              " 'want',\n",
              " 'to',\n",
              " 'pay',\n",
              " 'with',\n",
              " 'a',\n",
              " 'twenti-dolloar',\n",
              " 'bill',\n",
              " ';',\n",
              " 'howev',\n",
              " ',',\n",
              " 'she',\n",
              " 'couldn',\n",
              " '’',\n",
              " 't',\n",
              " 'get',\n",
              " 'cash',\n",
              " '.',\n",
              " 'i',\n",
              " '’',\n",
              " 've',\n",
              " 'got',\n",
              " 'a',\n",
              " 'big',\n",
              " 'troubl',\n",
              " ',',\n",
              " 'but',\n",
              " 'other',\n",
              " 'peopl',\n",
              " 'were',\n",
              " 'have',\n",
              " 'lot',\n",
              " 'of',\n",
              " 'fun',\n",
              " '.',\n",
              " 'anna',\n",
              " 'like',\n",
              " 'brown',\n",
              " '’',\n",
              " 's',\n",
              " 'east',\n",
              " 'back',\n",
              " 'pack',\n",
              " ',',\n",
              " 'but',\n",
              " 'her',\n",
              " 'brother',\n",
              " 'doesn',\n",
              " '’',\n",
              " 't',\n",
              " '.']"
            ]
          },
          "metadata": {},
          "execution_count": 28
        }
      ]
    },
    {
      "cell_type": "markdown",
      "source": [
        "### 🐹 6. RegexpTokenizer() with a regular expression as an argument\n",
        "\n",
        "| Function.     | Type | symbols or words |result |example|\n",
        "|:--------------|:-----|:--------|:-----------|--|\n",
        "|RegexpTokenizer()|punctuation|\".\", \",\", \"?\", \"!\", \";\", \":\"|deleted|  |\n",
        "|               |apostrophe        |\"'\" |deleted|  |\n",
        "|               |word-linking hyphen|\"-\" |deleted| |\n",
        "|               |phrase-linking hyphen|\"--\" |deleted||\n",
        "||Capital vs. small|The ones |tokenize|'The', 'ones' |\n",
        "|              ||they're, were having||'they', 're', 'were', 'hav'|\n"
      ],
      "metadata": {
        "id": "58snfSOY42Qq"
      }
    },
    {
      "cell_type": "code",
      "source": [
        "#@markdown ###🐹 **Students' Activity 6** ⤵️\n",
        "\n",
        "#@markdown <font color = 'red'> 👀🐾 **RegexpTokenizer() with a regular expression as an argument\n",
        "\n",
        "from nltk.tokenize import RegexpTokenizer\n",
        "retokenize = RegexpTokenizer(\"[\\w]+\")\n",
        "result6 = retokenize.tokenize(obj)\n",
        "\n",
        "print('Tokenizing Words with RegexpTokenizer: %s' %result6)"
      ],
      "metadata": {
        "id": "zcfE8gZd4S9j",
        "outputId": "190c936f-ddaa-4aa9-efd4-0c24f10b6513",
        "colab": {
          "base_uri": "https://localhost:8080/"
        }
      },
      "execution_count": null,
      "outputs": [
        {
          "output_type": "stream",
          "name": "stdout",
          "text": [
            "Tokenizing Words with RegexpTokenizer: ['Here', 's', 'to', 'the', 'crazy', 'ones', 'the', 'misfits', 'the', 'rebels', 'the', 'troublemakers', 'the', 'round', 'pegs', 'in', 'the', 'square', 'holes', 'The', 'ones', 'who', 'see', 'things', 'differently', 'they', 're', 'not', 'fond', 'of', 'rules', 'I', 'wanted', 'to', 'pay', 'with', 'a', 'twenti', 'dolloar', 'bill', 'however', 'she', 'couldn', 't', 'get', 'cash', 'I', 've', 'got', 'a', 'big', 'trouble', 'but', 'other', 'people', 'were', 'having', 'lots', 'of', 'fun', 'Anna', 'likes', 'Brown', 's', 'East', 'back', 'pack', 'but', 'her', 'brother', 'doesn', 't']\n"
          ]
        }
      ]
    },
    {
      "cell_type": "markdown",
      "source": [
        "### 🐹 7. LancasterStemmer() for Lemmatization?\n",
        "\n",
        "| Function.     | Type | symbols or words |result |example|\n",
        "|:--------------|:-----|:--------|:-----------|--|\n",
        "|LancasterStemmer()|punctuation|\".\", \",\", \"?\", \"!\", \";\", \":\"|deleted|  |\n",
        "|               |apostrophe        |\"'\" |deleted|  |\n",
        "|               |word-linking hyphen|\"-\" |deleted| |\n",
        "|               |phrase-linking hyphen|\"--\" |deleted||\n",
        "||Capital ➡️ small|The ones |tokenize|'the', 'ones' |\n",
        "|              ||they're, were having||'they', 're', 'wer', 'hav'|\n"
      ],
      "metadata": {
        "id": "0zR8F11BKBJV"
      }
    },
    {
      "cell_type": "code",
      "source": [
        "#@markdown ###🐹 **Students' Activity 7** ⤵️\n",
        "\n",
        "#@markdown <font color = 'red'> 👀🐾 **LancasterStemmer() for Lemmatization?**\n",
        "\n",
        "from nltk.tokenize import RegexpTokenizer\n",
        "retokenize = RegexpTokenizer(\"[\\w]+\")\n",
        "result7 = retokenize.tokenize(obj)\n",
        "\n",
        "from nltk.stem import LancasterStemmer\n",
        "stemmer = LancasterStemmer()\n",
        "[stemmer.stem(w) for w in result7]"
      ],
      "metadata": {
        "id": "VDmNAzQJ69b5",
        "outputId": "8e1a7980-4ca2-40a2-cb11-bc70c108db16",
        "colab": {
          "base_uri": "https://localhost:8080/"
        }
      },
      "execution_count": null,
      "outputs": [
        {
          "output_type": "execute_result",
          "data": {
            "text/plain": [
              "['her',\n",
              " 's',\n",
              " 'to',\n",
              " 'the',\n",
              " 'crazy',\n",
              " 'on',\n",
              " 'the',\n",
              " 'misfit',\n",
              " 'the',\n",
              " 'rebel',\n",
              " 'the',\n",
              " 'troublemak',\n",
              " 'the',\n",
              " 'round',\n",
              " 'peg',\n",
              " 'in',\n",
              " 'the',\n",
              " 'squ',\n",
              " 'hol',\n",
              " 'the',\n",
              " 'on',\n",
              " 'who',\n",
              " 'see',\n",
              " 'thing',\n",
              " 'diff',\n",
              " 'they',\n",
              " 're',\n",
              " 'not',\n",
              " 'fond',\n",
              " 'of',\n",
              " 'rul',\n",
              " 'i',\n",
              " 'want',\n",
              " 'to',\n",
              " 'pay',\n",
              " 'with',\n",
              " 'a',\n",
              " 'twent',\n",
              " 'dollo',\n",
              " 'bil',\n",
              " 'howev',\n",
              " 'she',\n",
              " 'couldn',\n",
              " 't',\n",
              " 'get',\n",
              " 'cash',\n",
              " 'i',\n",
              " 've',\n",
              " 'got',\n",
              " 'a',\n",
              " 'big',\n",
              " 'troubl',\n",
              " 'but',\n",
              " 'oth',\n",
              " 'peopl',\n",
              " 'wer',\n",
              " 'hav',\n",
              " 'lot',\n",
              " 'of',\n",
              " 'fun',\n",
              " 'ann',\n",
              " 'lik',\n",
              " 'brown',\n",
              " 's',\n",
              " 'east',\n",
              " 'back',\n",
              " 'pack',\n",
              " 'but',\n",
              " 'her',\n",
              " 'broth',\n",
              " 'doesn',\n",
              " 't']"
            ]
          },
          "metadata": {},
          "execution_count": 31
        }
      ]
    },
    {
      "cell_type": "markdown",
      "source": [
        "### 8. WordNetLemmatizer\n",
        "\n",
        "| Function.     | Type | symbols or words |result |example|\n",
        "|:--------------|:-----|:--------|:-----------|--|\n",
        "|WordNetLemmatizer()|punctuation|\".\", \",\", \"?\", \"!\", \";\", \":\"|deleted|  |\n",
        "|               |apostrophe        |\"'\" |deleted|  |\n",
        "|               |word-linking hyphen|\"-\" |deleted| |\n",
        "|               |phrase-linking hyphen|\"--\" |deleted||\n",
        "||| || |\n",
        "|inflection|pl, 3rd per. sg.|ones, rebels, likes||'one', 'rebel', 'like'|\n",
        "|inflection|progressive|were having ||'were', 'having'|"
      ],
      "metadata": {
        "id": "HuRtnY3n-9fb"
      }
    },
    {
      "cell_type": "code",
      "source": [
        "#@markdown ###🐹 **Students' Activity 8** ⤵️\n",
        "\n",
        "#@markdown <font color = 'red'> 👀🐾 ** WordNetLemmatizer( )\n",
        "\n",
        "from nltk.tokenize import RegexpTokenizer\n",
        "retokenize = RegexpTokenizer(\"[\\w]+\")\n",
        "result8 = retokenize.tokenize(obj)\n",
        "\n",
        "from nltk.stem import WordNetLemmatizer # 일부 활용만 복원 (e.g., inflectional morpheme '-s' for 3rd per. sg & plural; cf., no recovery from progressive)\n",
        "nltk.download('wordnet')\n",
        "lemmatizer = WordNetLemmatizer()\n",
        "[lemmatizer.lemmatize(w) for w in result8]"
      ],
      "metadata": {
        "id": "rsZNA64a-xIB",
        "outputId": "5411a59e-5ec4-4051-c46e-629576177ab5",
        "colab": {
          "base_uri": "https://localhost:8080/"
        }
      },
      "execution_count": null,
      "outputs": [
        {
          "output_type": "stream",
          "name": "stderr",
          "text": [
            "[nltk_data] Downloading package wordnet to /root/nltk_data...\n",
            "[nltk_data]   Package wordnet is already up-to-date!\n"
          ]
        },
        {
          "output_type": "execute_result",
          "data": {
            "text/plain": [
              "['Here',\n",
              " 's',\n",
              " 'to',\n",
              " 'the',\n",
              " 'crazy',\n",
              " 'one',\n",
              " 'the',\n",
              " 'misfit',\n",
              " 'the',\n",
              " 'rebel',\n",
              " 'the',\n",
              " 'troublemaker',\n",
              " 'the',\n",
              " 'round',\n",
              " 'peg',\n",
              " 'in',\n",
              " 'the',\n",
              " 'square',\n",
              " 'hole',\n",
              " 'The',\n",
              " 'one',\n",
              " 'who',\n",
              " 'see',\n",
              " 'thing',\n",
              " 'differently',\n",
              " 'they',\n",
              " 're',\n",
              " 'not',\n",
              " 'fond',\n",
              " 'of',\n",
              " 'rule',\n",
              " 'I',\n",
              " 'wanted',\n",
              " 'to',\n",
              " 'pay',\n",
              " 'with',\n",
              " 'a',\n",
              " 'twenti',\n",
              " 'dolloar',\n",
              " 'bill',\n",
              " 'however',\n",
              " 'she',\n",
              " 'couldn',\n",
              " 't',\n",
              " 'get',\n",
              " 'cash',\n",
              " 'I',\n",
              " 've',\n",
              " 'got',\n",
              " 'a',\n",
              " 'big',\n",
              " 'trouble',\n",
              " 'but',\n",
              " 'other',\n",
              " 'people',\n",
              " 'were',\n",
              " 'having',\n",
              " 'lot',\n",
              " 'of',\n",
              " 'fun',\n",
              " 'Anna',\n",
              " 'like',\n",
              " 'Brown',\n",
              " 's',\n",
              " 'East',\n",
              " 'back',\n",
              " 'pack',\n",
              " 'but',\n",
              " 'her',\n",
              " 'brother',\n",
              " 'doesn',\n",
              " 't']"
            ]
          },
          "metadata": {},
          "execution_count": 32
        }
      ]
    },
    {
      "cell_type": "markdown",
      "source": [
        "Stopwords 불용어\n",
        "For more information, read the original article\n",
        "\n",
        "Stopwords are the English words which does not add much meaning to a sentence. They can safely be ignored without sacrificing the meaning of the sentence. For example, the words like the, he, have etc. Such words are already captured this in corpus named corpus. We first download it to our python environment.\n",
        "\n",
        "Stop words are common words like ‘the’, ‘and’, ‘I’, etc. that are very frequent in text, and so don’t convey insights into the specific topic of a document. We can remove these stop words from the text in a given corpus to clean up the data, and identify words that are more rare and potentially more relevant to what we’re interested in.\n",
        "\n",
        "Text may contain stop words like ‘the’, ‘is’, ‘are’. Stop words can be filtered from the text to be processed. There is no universal list of stop words in nlp research, however the nltk module contains a list of stop words."
      ],
      "metadata": {
        "id": "Paej0i2D_PRg"
      }
    },
    {
      "cell_type": "markdown",
      "source": [
        "# Conclusion:\n",
        "\n",
        "토큰화 작업을 단순하게 코퍼스에서 구두점을 제외하고 공백 기준으로 잘라내는 작업이라고 간주할 수는 없습니다.\n",
        "\n",
        "1) 구두점이나 특수 문자를 단순 제외해서는 안 된다.\n",
        "갖고있는 코퍼스에서 단어들을 걸러낼 때, 구두점이나 특수 문자를 단순히 제외하는 것은 옳지 않습니다. 코퍼스에 대한 정제 작업을 진행하다보면, 구두점조차도 하나의 토큰으로 분류하기도 합니다. 가장 기본적인 예를 들어보자면, 마침표(.)와 같은 경우는 문장의 경계를 알 수 있는데 도움이 되므로 단어를 뽑아낼 때, 마침표(.)를 제외하지 않을 수 있습니다.\n",
        "\n",
        "또 다른 예로 단어 자체에 구두점을 갖고 있는 경우도 있는데, m.p.h나 Ph.D나 AT&T 같은 경우가 있습니다. 또 특수 문자의 달러나 슬래시(/)로 예를 들어보면, $45.55와 같은 가격을 의미 하기도 하고, 01/02/06은 날짜를 의미하기도 합니다. 보통 이런 경우 45.55를 하나로 취급하고 45와 55로 따로 분류하고 싶지는 않을 수 있습니다.\n",
        "\n",
        "숫자 사이에 컴마(,)가 들어가는 경우도 있습니다. 보통 수치를 표현할 때는 123,456,789와 같이 세 자리 단위로 컴마가 있습니다.\n",
        "\n",
        "2) 줄임말과 단어 내에 띄어쓰기가 있는 경우.\n",
        "토큰화 작업에서 종종 영어권 언어의 아포스트로피(')는 압축된 단어를 다시 펼치는 역할을 하기도 합니다. 예를 들어 what're는 what are의 줄임말이며, we're는 we are의 줄임말입니다. 위의 예에서 re를 접어(clitic)이라고 합니다. 즉, 단어가 줄임말로 쓰일 때 생기는 형태를 말합니다. 가령 I am을 줄인 I'm이 있을 때, m을 접어라고 합니다.\n",
        "\n",
        "New York이라는 단어나 rock 'n' roll이라는 단어를 봅시다. 이 단어들은 하나의 단어이지만 중간에 띄어쓰기가 존재합니다. 사용 용도에 따라서, 하나의 단어 사이에 띄어쓰기가 있는 경우에도 하나의 토큰으로 봐야하는 경우도 있을 수 있으므로, 토큰화 작업은 저러한 단어를 하나로 인식할 수 있는 능력도 가져야합니다.\n",
        "\n"
      ],
      "metadata": {
        "id": "DtdT9VC6rp-d"
      }
    },
    {
      "cell_type": "markdown",
      "source": [
        "Penn Treebank Tokenization의 규칙에 대해서 소개하고, 토큰화의 결과를 확인해보겠습니다.\n",
        "\n",
        "  - 규칙 1. 하이푼으로 구성된 단어는 하나로 유지한다.\n",
        "  - 규칙 2. doesn't와 같이 아포스트로피로 '접어'가 함께하는 단어는 분리해준다.\n",
        "\n",
        "Alert: TypeError: TreebankWordTokenizer() takes no arguments."
      ],
      "metadata": {
        "id": "x71sxg3msLG0"
      }
    },
    {
      "cell_type": "markdown",
      "source": [
        "# 💣💊  아래는 실습에서 모두 제외 (as of 07JUNE23) ↘️"
      ],
      "metadata": {
        "id": "UBdTkOlV2CBn"
      }
    },
    {
      "cell_type": "code",
      "source": [
        "from nltk.tokenize import TreebankWordTokenizer #Wikidocs에서는 doesn't 에서 접어 n't 를 따로 토큰화 한다고 하는데, 여기 예시에서는 그렇지 않음. 이상함...\n",
        "\n",
        "tokenizer = TreebankWordTokenizer()\n",
        "Result = tokenizer.tokenize(obj)\n",
        "\n",
        "print('트리뱅크 워드토크나이저 : %s' %Result)"
      ],
      "metadata": {
        "colab": {
          "base_uri": "https://localhost:8080/"
        },
        "id": "w4v47eMssAMO",
        "outputId": "303171b0-9d5a-4505-a5cb-5642750a12fb"
      },
      "execution_count": null,
      "outputs": [
        {
          "output_type": "stream",
          "name": "stdout",
          "text": [
            "트리뱅크 워드토크나이저 : ['Here’s', 'to', 'the', 'crazy', 'ones', ',', 'the', 'misfits', ',', 'the', 'rebels', ',', 'the', 'troublemakers', ',', 'the', 'round', 'pegs', 'in', 'the', 'square', 'holes.', 'The', 'ones', 'who', 'see', 'things', 'differently', '—', 'they’re', 'not', 'fond', 'of', 'rules.', 'I', 'wanted', 'to', 'pay', 'with', 'a', 'twenti-dolloar', 'bill', ';', 'however', ',', 'she', 'couldn’t', 'get', 'cash.', 'I’ve', 'got', 'a', 'big', 'trouble', ',', 'but', 'other', 'people', 'were', 'having', 'lots', 'of', 'fun.', 'Anna', 'likes', 'Brown’s', 'East', 'back', 'pack', ',', 'but', 'her', 'brother', 'doesn’t', '.']\n"
          ]
        }
      ]
    },
    {
      "cell_type": "markdown",
      "source": [
        "## [For Tokenization and POS in Korean, visit Wikidocs for further information](https://wikidocs.net/21698)\n",
        "* Sentence tokenizer for Korean: kss package"
      ],
      "metadata": {
        "id": "xGOApXRERwUy"
      }
    },
    {
      "cell_type": "code",
      "source": [
        "!pip install kss\n",
        "import kss"
      ],
      "metadata": {
        "colab": {
          "base_uri": "https://localhost:8080/"
        },
        "id": "hHP16yVbR4Z4",
        "outputId": "fd980c6a-5caa-42a8-b3e6-b4fce8ba0db9"
      },
      "execution_count": null,
      "outputs": [
        {
          "output_type": "stream",
          "name": "stdout",
          "text": [
            "Looking in indexes: https://pypi.org/simple, https://us-python.pkg.dev/colab-wheels/public/simple/\n",
            "Collecting kss\n",
            "  Using cached kss-4.5.3.tar.gz (78 kB)\n",
            "  Preparing metadata (setup.py) ... \u001b[?25l\u001b[?25hdone\n",
            "Collecting emoji==1.2.0 (from kss)\n",
            "  Using cached emoji-1.2.0-py3-none-any.whl (131 kB)\n",
            "Requirement already satisfied: regex in /usr/local/lib/python3.10/dist-packages (from kss) (2022.10.31)\n",
            "Collecting pecab (from kss)\n",
            "  Using cached pecab-1.0.8.tar.gz (26.4 MB)\n",
            "  Preparing metadata (setup.py) ... \u001b[?25l\u001b[?25hdone\n",
            "Requirement already satisfied: networkx in /usr/local/lib/python3.10/dist-packages (from kss) (3.1)\n",
            "Requirement already satisfied: numpy in /usr/local/lib/python3.10/dist-packages (from pecab->kss) (1.22.4)\n",
            "Requirement already satisfied: pyarrow in /usr/local/lib/python3.10/dist-packages (from pecab->kss) (9.0.0)\n",
            "Requirement already satisfied: pytest in /usr/local/lib/python3.10/dist-packages (from pecab->kss) (7.2.2)\n",
            "Requirement already satisfied: attrs>=19.2.0 in /usr/local/lib/python3.10/dist-packages (from pytest->pecab->kss) (23.1.0)\n",
            "Requirement already satisfied: iniconfig in /usr/local/lib/python3.10/dist-packages (from pytest->pecab->kss) (2.0.0)\n",
            "Requirement already satisfied: packaging in /usr/local/lib/python3.10/dist-packages (from pytest->pecab->kss) (23.1)\n",
            "Requirement already satisfied: pluggy<2.0,>=0.12 in /usr/local/lib/python3.10/dist-packages (from pytest->pecab->kss) (1.0.0)\n",
            "Requirement already satisfied: exceptiongroup>=1.0.0rc8 in /usr/local/lib/python3.10/dist-packages (from pytest->pecab->kss) (1.1.1)\n",
            "Requirement already satisfied: tomli>=1.0.0 in /usr/local/lib/python3.10/dist-packages (from pytest->pecab->kss) (2.0.1)\n",
            "Building wheels for collected packages: kss, pecab\n",
            "  Building wheel for kss (setup.py) ... \u001b[?25l\u001b[?25hdone\n",
            "  Created wheel for kss: filename=kss-4.5.3-py3-none-any.whl size=54258 sha256=07ac04a15bddf59d3dec45404a9d84d4124cba5b422f3945b1aaf434a9ac6e18\n",
            "  Stored in directory: /root/.cache/pip/wheels/d8/9e/a3/5b09e3f14722fa0d77f47fe840668d426760023bdd11b0fbd9\n",
            "  Building wheel for pecab (setup.py) ... \u001b[?25l\u001b[?25hdone\n",
            "  Created wheel for pecab: filename=pecab-1.0.8-py3-none-any.whl size=26646666 sha256=42d490a00b3b299cfa6e398b2a3c0f1c4fcdf0c8edc88db190d4d5b49fdba482\n",
            "  Stored in directory: /root/.cache/pip/wheels/5c/6f/b4/ab61b8863d7d8b1409def8ae31adcaa089fa91b8d022ec309d\n",
            "Successfully built kss pecab\n",
            "Installing collected packages: emoji, pecab, kss\n",
            "Successfully installed emoji-1.2.0 kss-4.5.3 pecab-1.0.8\n"
          ]
        }
      ]
    }
  ]
}